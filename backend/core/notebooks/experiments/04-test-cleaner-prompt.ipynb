{
 "cells": [
  {
   "cell_type": "markdown",
   "id": "7267f393",
   "metadata": {},
   "source": [
    "# Definir ruta principal"
   ]
  },
  {
   "cell_type": "code",
   "execution_count": 1,
   "id": "418c7425",
   "metadata": {},
   "outputs": [
    {
     "data": {
      "text/plain": [
       "WindowsPath('c:/Users/efrai/CascadeProjects/education-ai-analytics/backend')"
      ]
     },
     "execution_count": 1,
     "metadata": {},
     "output_type": "execute_result"
    }
   ],
   "source": [
    "from pathlib import Path\n",
    "\n",
    "current_dir = Path().cwd()\n",
    "main_dir = current_dir.parent.parent.parent\n",
    "main_dir"
   ]
  },
  {
   "cell_type": "markdown",
   "id": "b65067e6",
   "metadata": {},
   "source": [
    "# Obtener el prompt"
   ]
  },
  {
   "cell_type": "code",
   "execution_count": 2,
   "id": "8cd457c2",
   "metadata": {},
   "outputs": [
    {
     "data": {
      "text/plain": [
       "'Actúa como un asistente de transcripción experto. Tu tarea es convertir la transcripción en crudo de'"
      ]
     },
     "execution_count": 2,
     "metadata": {},
     "output_type": "execute_result"
    }
   ],
   "source": [
    "PROMPTS_DIR = main_dir.joinpath('core', 'prompts')\n",
    "PROMPT_NAME = 'clean_transcript.txt'\n",
    "\n",
    "prompt_path = PROMPTS_DIR.joinpath(PROMPT_NAME)\n",
    "\n",
    "with open(prompt_path, 'r', encoding='utf-8') as file:\n",
    "    clean_transcript_prompt = file.read()\n",
    "\n",
    "clean_transcript_prompt[:100]"
   ]
  },
  {
   "cell_type": "markdown",
   "id": "b8b1853a",
   "metadata": {},
   "source": [
    "# Obtener transcripción en crudo"
   ]
  },
  {
   "cell_type": "code",
   "execution_count": 3,
   "id": "e7c0e329",
   "metadata": {},
   "outputs": [
    {
     "data": {
      "text/plain": [
       "True"
      ]
     },
     "execution_count": 3,
     "metadata": {},
     "output_type": "execute_result"
    }
   ],
   "source": [
    "RAW_TRANSCRIPTS_DIR = main_dir.joinpath('core', 'data', 'raw', 'test')\n",
    "RAW_TRANSCRIPT_NAME = 'portfolio_real_class.docx'\n",
    "\n",
    "raw_transcript_path = RAW_TRANSCRIPTS_DIR.joinpath(RAW_TRANSCRIPT_NAME)\n",
    "\n",
    "raw_transcript_path.is_file()"
   ]
  },
  {
   "cell_type": "code",
   "execution_count": 4,
   "id": "54d2e012",
   "metadata": {},
   "outputs": [
    {
     "data": {
      "text/plain": [
       "'\\n\\nANDREA FLORES MELO   18:00\\nAdiós 1000, gracias.\\n\\nFABIOLA ACOSTA LOPEZ ha detenido la transcripción'"
      ]
     },
     "execution_count": 4,
     "metadata": {},
     "output_type": "execute_result"
    }
   ],
   "source": [
    "from docx import Document\n",
    "\n",
    "document = Document(raw_transcript_path)\n",
    "full_text = []\n",
    "for paragraph in document.paragraphs:\n",
    "    full_text.append(paragraph.text)\n",
    "\n",
    "raw_transcript = '\\n'.join(full_text)\n",
    "\n",
    "raw_transcript[-100:]"
   ]
  },
  {
   "cell_type": "markdown",
   "id": "68f33074",
   "metadata": {},
   "source": [
    "# Actualizar prompt!"
   ]
  },
  {
   "cell_type": "code",
   "execution_count": 5,
   "id": "9f88caf4",
   "metadata": {},
   "outputs": [
    {
     "data": {
      "text/plain": [
       "('Actúa como un asistente de transcripción experto. Tu tarea es convertir la transcripción en crudo de',\n",
       " '\\n\\nANDREA FLORES MELO   18:00\\nAdiós 1000, gracias.\\n\\nFABIOLA ACOSTA LOPEZ ha detenido la transcripción')"
      ]
     },
     "execution_count": 5,
     "metadata": {},
     "output_type": "execute_result"
    }
   ],
   "source": [
    "final_prompt = clean_transcript_prompt + raw_transcript\n",
    "\n",
    "final_prompt[:100], final_prompt[-100:]"
   ]
  },
  {
   "cell_type": "markdown",
   "id": "d1854c86",
   "metadata": {},
   "source": [
    "# Instanciar Gemini"
   ]
  },
  {
   "cell_type": "code",
   "execution_count": 6,
   "id": "9a4ea139",
   "metadata": {},
   "outputs": [],
   "source": [
    "from google import genai\n",
    "\n",
    "client = genai.Client()\n",
    "ANALYZER_MODEL = 'gemini-2.5-pro'"
   ]
  },
  {
   "cell_type": "markdown",
   "id": "493cf79a",
   "metadata": {},
   "source": [
    "# Transcripción limpia!"
   ]
  },
  {
   "cell_type": "code",
   "execution_count": 7,
   "id": "bd223818",
   "metadata": {},
   "outputs": [],
   "source": [
    "response = client.models.generate_content(\n",
    "    model=ANALYZER_MODEL,\n",
    "    contents=final_prompt\n",
    ")"
   ]
  },
  {
   "cell_type": "code",
   "execution_count": 8,
   "id": "71bbb7fd",
   "metadata": {},
   "outputs": [
    {
     "name": "stdout",
     "output_type": "stream",
     "text": [
      "**Transcripción de clase: Proyecto de Inversión y Formación de Equipos**\n",
      "**Fecha:** 29 de noviembre de 2024\n",
      "**Docente:** Fabiola Acosta Lopez\n",
      "**Plataforma:** Microsoft Teams\n",
      "**Participantes:** Fabiola Acosta Lopez, Ana Camila Yañez Fuentes, Jessica Daniela Saldaña Garcia, Eduardo Antonio Rios Calleja, Andrea Flores Melo, Jonatan Alejandro González Cázares, Mariana Denise Barreras Garcia, Melissa Sofía Valdez Borbón\n",
      "\n",
      "***\n",
      "\n",
      "FABIOLA ACOSTA LOPEZ (0:03)\n",
      "Definiendo el objetivo.\n",
      "\n",
      "ANA CAMILA YAÑEZ FUENTES (1:22)\n",
      "Miss.\n",
      "\n",
      "FABIOLA ACOSTA LOPEZ (1:30)\n",
      "Mande, dime.\n",
      "\n",
      "ANA CAMILA YAÑEZ FUENTES (1:32)\n",
      "Ah, creí que no se escuchaba.\n",
      "\n",
      "FABIOLA ACOSTA LOPEZ (1:37)\n",
      "Les decía que cómo van a empezar su proyecto es, más que nada, compartiendo qué tipo de objetivos van a tener. Si es para jubilación, ya ven que ese es de largo plazo, de 20 a 30 años, sobre todo ustedes que tienen un promedio de 20 años. Para comprar una casa, de 10 a 15 años. Para un viaje, ¿lo quieren terminando su carrera, que más o menos terminan en uno o dos años? ¿Cuál es el tiempo y cuál es la tolerancia que tienen ustedes al riesgo? Esto quiere decir cuánto van a poner en renta fija, en renta variable, en los fondos de inversión, en los inmuebles, que son las fibras, u otras.\n",
      "\n",
      "Algunos proyectos me presentaron en otro salón en donde le van a meter a las criptomonedas, pero como es de alto riesgo, le metieron apenas un 10% de su total de capital. ¿Ustedes también van a ser mixtos? Por ejemplo, indizados. Acuérdense que los inversionistas indizados son los que invierten en países. Un ejemplo de ello es lo que yo les compartí, que en cada acción que compran en el país, invierten en cada una de las empresas de ese país. O patrimonial, que se van a inclinar solo por empresas, o mixto.\n",
      "\n",
      "¿Y qué instrumentos van a utilizar? ¿Qué porcentaje de renta fija, qué porcentaje de renta variable, fondos de inversión o inmuebles? Y diversificando, recuerden que es muy importante diversificar, no poner todos los huevos en una sola canasta. Hay que distribuir todos los activos que tienen para reducir el riesgo. Tengo dos alumnos en otro salón que ya están invirtiendo, empezaron a invertir y utilizaron la herramienta de Markowitz. Esta herramienta estadística, y empezaron ellos a mover dónde querían invertir en las acciones. Me dijeron que tienen tres semanas y, de acuerdo a la herramienta que utilizaron y la propuesta que les dio, así lo hicieron, lo diversificaron y le están ganando. Entonces, es una opción.\n",
      "\n",
      "Aquí les pongo los rubros o los tipos de empresa en los que ustedes pueden invertir:\n",
      "*   **Consumo básico:** todo lo que comemos, usamos para higiene personal, lo que consumimos para vivir el día a día.\n",
      "*   **Consumo discrecional:** son todas estas empresas donde, por ejemplo, yo diario veo a muchos alumnos con su vasito de Starbucks. Es una buena propuesta porque son muchos los que consumen este tipo de producto, como las pizzas, etcétera.\n",
      "*   **Área financiera:** todas las instituciones bancarias, financieras, etcétera.\n",
      "*   **Industrial:** hablábamos de IEnova, Grupo México, Cemento Chihuahua, Cemex, etcétera.\n",
      "*   **Energía:** que es IEnova, todo lo que es gas, aceites, petróleo, electricidad.\n",
      "*   **Salud:** Genomma Lab, que es una empresa que empezó, pero hicimos un ejercicio con esta empresa y son de las que se han mantenido, pero van un poquito a la baja.\n",
      "*   **Tecnología:** todo lo que es empresas de software, empresas de telecomunicaciones, etcétera.\n",
      "*   **Materiales:** empresas relacionadas con la extracción y transformación de materias primas.\n",
      "*   **Bienes raíces:** lo que estamos hablando de Fibras.\n",
      "*   **Servicios de comunicación:** Televisa, todo este tipo de empresas que se dedican a informar, comunicar y entretener.\n",
      "*   **Energías renovables:** empresas enfocadas en el cuidado al medio ambiente, donde invierten o piden inversión para seguir trabajando en esto porque es sustentable y renovable.\n",
      "\n",
      "Los fondos de inversión cotizados, que son los ETF, son las acciones que se invierten en cada país o por país. Y bueno, recuerden que diversificar es importante, como ya se los comenté. Hay que visualizar y estar revisando su historial. Ustedes ya saben revisarlo de los sectores que son más rentables en estos momentos, sobre todo en las tendencias que puede haber, y el perfil de riesgo que ustedes van a tomar.\n",
      "\n",
      "Otro de los puntos importantes es la estrategia de inversión. ¿Qué porcentaje de tu cartera vas a destinar a cada activo? Aquí les puse un pequeño ejemplo de que al rubro de la energía, servicio de comunicación, consumo básico, discrecional, etcétera, y ahí divido mis 1000 pesos. ¿Con qué secuencia lo voy a estar haciendo? De manera semanal voy a estar invirtiendo 1000 pesos, o de manera bimestral voy a estar viendo las acciones y cada bimestre le voy a meter 1000 pesos de aquí a cinco, diez o quince años, el tiempo que ustedes decidan.\n",
      "\n",
      "Si lo hacen continuamente, hay que revisar la cartera. Yo siempre les digo que una vez al mes, depende del tipo de inversionista que sea, hay que revisar la cartera, mantenerse informado de los mercados financieros y ajustar su estrategia si es necesario. ¿Cuál es su estrategia? Esta que está aquí, la de los rubros. Y esto igual ya se los había mostrado en alguna ocasión:\n",
      "*   **Conservador:** le da más a la renta fija. Recuerden: renta fija es ahorro, prestamista; renta variable es inversionista.\n",
      "*   **Moderado:** siguen dando a la renta fija, 40% a fondos de inversión y 20% a acciones de empresas sólidas.\n",
      "*   **Agresivo:** 20% de renta fija, 40% de inversión y 40% de acciones en crecimiento.\n",
      "\n",
      "Recuerden ser dosificados, empezar en pequeñas cantidades porque son nuevos inversionistas. Les doy un consejo: no tengan intermediarios, que la única empresa intermediaria sea la casa de bolsa. Sean inversionistas independientes, ustedes tomen las decisiones de acuerdo al conocimiento y a todo lo que vayan investigando. Sobre todo, ser muy pacientes y disciplinados, y nunca dejar de tener educación financiera. Aquí nada más es cómo elegir un fondo de inversión, aquí les da pequeños consejos que ya vimos.\n",
      "\n",
      "Quisiera saber si ustedes alcanzaron a leer este archivo. No lo lean al cuarto para las doce porque no lo van a hacer bien. Yo sé que son muy buenos, pero no se confíen porque tienen que sacar precios. Si vemos el archivo que les compartí, es un portafolio indizado. Si ustedes quieren hacer uno patrimonial, es de las empresas, pero aquí lo único que van a cubrir es esto, qué es lo que van a manejar, el peso objetivo, y la columna de la H a la L se las va a dar porque ya tiene fórmulas. Y aquí está el dinero que ustedes van a ir invirtiendo. Lo que quiero que me digan es si tienen alguna duda para presentar su proyecto.\n",
      "\n",
      "ANA CAMILA YAÑEZ FUENTES (10:56)\n",
      "Miss, si tenemos dudas mientras lo estamos haciendo, ¿le podemos mandar mensaje?\n",
      "\n",
      "FABIOLA ACOSTA LOPEZ (11:00)\n",
      "Sí.\n",
      "\n",
      "ANA CAMILA YAÑEZ FUENTES (11:04)\n",
      "Ok, yo creo que van a surgir más mientras lo hagamos.\n",
      "\n",
      "FABIOLA ACOSTA LOPEZ (11:05)\n",
      "Sí. Si se ponen a leerlo con detenimiento, como son varios en su equipo, lo van a ir cubriendo. Pero sí, claro, de aquí al lunes o martes, sin problema. Incluso hoy puedo estar atenta a lo que soliciten. Nada más para dejar claro, ¿cómo van a quedar los equipos? ¿Me lo pueden decir?\n",
      "\n",
      "ANA CAMILA YAÑEZ FUENTES (11:38)\n",
      "Sí. De nosotros vamos a ser las cuatro, Miss: Melissa, Jessica, Caro y yo.\n",
      "\n",
      "FABIOLA ACOSTA LOPEZ (11:47)\n",
      "Ok, Melissa, Jessica, Caro y Camila. ¿El siguiente equipo?\n",
      "\n",
      "ANA CAMILA YAÑEZ FUENTES (11:54)\n",
      "Camila, profe.\n",
      "\n",
      "FABIOLA ACOSTA LOPEZ (11:59)\n",
      "¿Cuál es? Gracias, los voy a sortear para que en ese orden vayan presentando. ¿Quién será el siguiente equipo, muchachos? ¿Nadie? ¿Yo los hago?\n",
      "\n",
      "JESSICA DANIELA SALDAÑA GARCIA (12:21)\n",
      "No, Estrada, perdón, no es que no me dejaba hablar.\n",
      "\n",
      "EDUARDO ANTONIO RIOS CALLEJA (12:22)\n",
      "¿Por qué?\n",
      "\n",
      "JESSICA DANIELA SALDAÑA GARCIA (12:25)\n",
      "Sería Nieto, Hugo, Ariel y Damián.\n",
      "\n",
      "FABIOLA ACOSTA LOPEZ (12:31)\n",
      "Ok. A ver, déjenme los pongo acá. Es más, se los voy a compartir. Nieto, Ariel, Hugo, Damián. Muy bien. ¿El tercer equipo cuál es o quiénes son?\n",
      "\n",
      "EDUARDO ANTONIO RIOS CALLEJA (13:02)\n",
      "Emiliano.\n",
      "\n",
      "FABIOLA ACOSTA LOPEZ (13:04)\n",
      "Emiliano.\n",
      "\n",
      "EDUARDO ANTONIO RIOS CALLEJA (13:06)\n",
      "Eduardo y Nuño, Diego.\n",
      "\n",
      "FABIOLA ACOSTA LOPEZ (13:11)\n",
      "Diego. ¿Sí les va a cumplir Diego?\n",
      "\n",
      "EDUARDO ANTONIO RIOS CALLEJA (13:16)\n",
      "Esperemos que sí.\n",
      "\n",
      "FABIOLA ACOSTA LOPEZ (13:18)\n",
      "¿El siguiente equipo?\n",
      "\n",
      "ANDREA FLORES MELO (13:24)\n",
      "Andrea y Andrea.\n",
      "\n",
      "FABIOLA ACOSTA LOPEZ (13:27)\n",
      "Andrea y Andrea. ¿Bien, quién más falta?\n",
      "\n",
      "JONATAN ALEJANDRO GONZÁLEZ CÁZARES (13:33)\n",
      "Maestra, nosotros somos Martha y yo, estamos con Juan Diego y con Mariana.\n",
      "\n",
      "FABIOLA ACOSTA LOPEZ (13:39)\n",
      "Súper bien. Juan Diego y Mariana. ¿Serían 5 equipos, creo que ya son todos, verdad? Ok, van a tener de 6 a 8 minutos para que presente cada equipo, para terminar en una hora. Sería el próximo miércoles a las 6:00 de la tarde. Hay que empezar puntuales para poder terminar a la hora. Ya ven que si todavía hay grupo a las 7 después de nosotros, casi nos sacan. Entonces, de 6 a 8 minutos es suficiente para que lo expliquen. Van a hacer una presentación y luego ya presentan su proyecto. ¿De acuerdo? ¿Dudas, comentarios, propuestas?\n",
      "\n",
      "ANA CAMILA YAÑEZ FUENTES (14:32)\n",
      "No, Miss. Ya que lo vayamos haciendo le mandamos por Teams.\n",
      "\n",
      "FABIOLA ACOSTA LOPEZ (14:37)\n",
      "Bueno, si quieren igual… no, dime.\n",
      "\n",
      "JESSICA DANIELA SALDAÑA GARCIA (14:38)\n",
      "Maestra, ¿va a ser la rifa de los números para ver quién expone primero?\n",
      "\n",
      "FABIOLA ACOSTA LOPEZ (14:46)\n",
      "Sí, o si ustedes se quieren proponer, no tengo problema. Ok, muchachos, pues voy a pasar asistencia para que me vayan contestando, por favor. Listo, ahí va. ¿Ana Camila? Sí está. ¿Andrea Flores?\n",
      "\n",
      "ANDREA FLORES MELO (15:11)\n",
      "Presente.\n",
      "\n",
      "FABIOLA ACOSTA LOPEZ (15:14)\n",
      "¿Andrea Vianney? ¿Antonio Damián? ¿Ariel?\n",
      "\n",
      "JESSICA DANIELA SALDAÑA GARCIA (15:20)\n",
      "Presente.\n",
      "\n",
      "EDUARDO ANTONIO RIOS CALLEJA (15:21)\n",
      "Aquí está Andrea con nosotras, presente, maestra.\n",
      "\n",
      "FABIOLA ACOSTA LOPEZ (15:25)\n",
      "Andrea Vianney.\n",
      "\n",
      "EDUARDO ANTONIO RIOS CALLEJA (15:26)\n",
      "Presente, miss.\n",
      "\n",
      "FABIOLA ACOSTA LOPEZ (15:28)\n",
      "Ah, ok. ¿Carolina? No la veo. ¿Eduardo?\n",
      "\n",
      "EDUARDO ANTONIO RIOS CALLEJA (15:42)\n",
      "Aquí estoy, miss.\n",
      "\n",
      "FABIOLA ACOSTA LOPEZ (15:43)\n",
      "¿Hugo?\n",
      "\n",
      "EDUARDO ANTONIO RIOS CALLEJA (15:45)\n",
      "Presente.\n",
      "\n",
      "FABIOLA ACOSTA LOPEZ (15:47)\n",
      "Ahí estás con Eduardo. ¿Jessica?\n",
      "\n",
      "EDUARDO ANTONIO RIOS CALLEJA (15:49)\n",
      "Sí.\n",
      "\n",
      "JESSICA DANIELA SALDAÑA GARCIA (15:52)\n",
      "Presente.\n",
      "\n",
      "FABIOLA ACOSTA LOPEZ (15:53)\n",
      "Y Jonathan, ahí estaba. ¿José Emiliano?\n",
      "\n",
      "JONATAN ALEJANDRO GONZÁLEZ CÁZARES (15:55)\n",
      "Presente, maestra.\n",
      "\n",
      "FABIOLA ACOSTA LOPEZ (16:01)\n",
      "¿José Emiliano, muchacho, no está? ¿Juan Diego? Tampoco lo veo.\n",
      "\n",
      "MARIANA DENISE BARRERAS GARCIA (16:08)\n",
      "Aquí estoy con Mariana.\n",
      "\n",
      "FABIOLA ACOSTA LOPEZ (16:09)\n",
      "Ah, ok. ¿Juan Pablo? ¿Mariana? Sí está ahí. ¿Marta?\n",
      "\n",
      "MARIANA DENISE BARRERAS GARCIA (16:20)\n",
      "Aquí.\n",
      "\n",
      "JONATAN ALEJANDRO GONZÁLEZ CÁZARES (16:23)\n",
      "Presente, aquí estoy, maestra.\n",
      "\n",
      "FABIOLA ACOSTA LOPEZ (16:24)\n",
      "También ahí está. ¿Melissa? ¿Melissa Sofía?\n",
      "\n",
      "MELISSA SOFÍA VALDEZ BORBÓN (16:32)\n",
      "Presente, miss.\n",
      "\n",
      "FABIOLA ACOSTA LOPEZ (16:34)\n",
      "Muy bien, muchachos. Entonces, prácticamente era eso. Ahí lo tienen ustedes en su archivo y con toda confianza, si quieren hacer un Teams, lo hacemos. Si quieren llamada, lo hacemos para que les quede más claro. Hay una presentación que me hicieron en otro grupo, igual se las comparto como muestra. Fue de las más completas y la verdad, súper explicadas. Se las voy to a compartir para que se den una idea. De todos modos, cualquier duda, ya me dicen y con gusto. Creo que se los pedí el martes en la noche… no es cierto, el miércoles como al mediodía, ¿verdad? Para tener a la mano los trabajos y leerlos. Muy bien, pues por mi parte es todo. ¿Tienen alguna duda, propuesta, sugerencia?\n",
      "\n",
      "ANA CAMILA YAÑEZ FUENTES (17:32)\n",
      "No, miss.\n",
      "\n",
      "FABIOLA ACOSTA LOPEZ (17:33)\n",
      "¿No? Ok. Camila, Antonio Damián, te estoy viendo en tu foto y te ves bien diferente. Bueno, entonces nos vemos el miércoles, si otra cosa no sucede, ¿de acuerdo?\n",
      "\n",
      "JONATAN ALEJANDRO GONZÁLEZ CÁZARES (17:52)\n",
      "Sí, maestra, muchas gracias.\n",
      "\n",
      "FABIOLA ACOSTA LOPEZ (17:54)\n",
      "Ok, a ustedes, bye.\n",
      "\n",
      "ANA CAMILA YAÑEZ FUENTES (17:54)\n",
      "Gracias.\n",
      "\n",
      "JESSICA DANIELA SALDAÑA GARCIA (17:57)\n",
      "Gracias, bye.\n",
      "\n",
      "ANDREA FLORES MELO (18:00)\n",
      "Adiós, miss, gracias.\n"
     ]
    }
   ],
   "source": [
    "print(response.text)"
   ]
  }
 ],
 "metadata": {
  "kernelspec": {
   "display_name": "venv",
   "language": "python",
   "name": "python3"
  },
  "language_info": {
   "codemirror_mode": {
    "name": "ipython",
    "version": 3
   },
   "file_extension": ".py",
   "mimetype": "text/x-python",
   "name": "python",
   "nbconvert_exporter": "python",
   "pygments_lexer": "ipython3",
   "version": "3.10.6"
  }
 },
 "nbformat": 4,
 "nbformat_minor": 5
}
