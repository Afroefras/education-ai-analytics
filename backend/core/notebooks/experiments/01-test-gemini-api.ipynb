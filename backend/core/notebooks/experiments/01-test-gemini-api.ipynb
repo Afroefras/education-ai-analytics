{
 "cells": [
  {
   "cell_type": "markdown",
   "id": "9b8ce9f4",
   "metadata": {},
   "source": [
    "# Importar la API Key\n",
    "\n",
    "Es la llave secreta para llamar a Gemini"
   ]
  },
  {
   "cell_type": "code",
   "execution_count": 1,
   "id": "ca468d33",
   "metadata": {},
   "outputs": [],
   "source": [
    "import os\n",
    "from dotenv import load_dotenv\n",
    "\n",
    "load_dotenv()\n",
    "api_key = os.getenv(\"GOOGLE_API_KEY\")"
   ]
  },
  {
   "cell_type": "markdown",
   "id": "4662a1fd",
   "metadata": {},
   "source": [
    "# \"Iniciar sesión\""
   ]
  },
  {
   "cell_type": "code",
   "execution_count": 3,
   "id": "6d81ae0a",
   "metadata": {},
   "outputs": [
    {
     "name": "stderr",
     "output_type": "stream",
     "text": [
      "c:\\Users\\efrai\\.virtualenvs\\education-ai-analytics-8934qOXF\\lib\\site-packages\\tqdm\\auto.py:21: TqdmWarning: IProgress not found. Please update jupyter and ipywidgets. See https://ipywidgets.readthedocs.io/en/stable/user_install.html\n",
      "  from .autonotebook import tqdm as notebook_tqdm\n"
     ]
    }
   ],
   "source": [
    "import google.generativeai as genai\n",
    "\n",
    "genai.configure(api_key=api_key)"
   ]
  },
  {
   "cell_type": "markdown",
   "id": "ab5efda1",
   "metadata": {},
   "source": [
    "# Instanciar modelo\n",
    "\n",
    "Hay de diferentes [precios](https://ai.google.dev/gemini-api/docs/pricing)"
   ]
  },
  {
   "cell_type": "code",
   "execution_count": null,
   "id": "fa0a9d21",
   "metadata": {},
   "outputs": [
    {
     "data": {
      "text/plain": [
       "genai.GenerativeModel(\n",
       "    model_name='models/gemini-1.5-flash-8b',\n",
       "    generation_config={},\n",
       "    safety_settings={},\n",
       "    tools=None,\n",
       "    system_instruction=None,\n",
       "    cached_content=None\n",
       ")"
      ]
     },
     "execution_count": 5,
     "metadata": {},
     "output_type": "execute_result"
    }
   ],
   "source": [
    "model = genai.GenerativeModel('gemini-1.5-flash-8b')\n",
    "model"
   ]
  },
  {
   "cell_type": "markdown",
   "id": "81b37561",
   "metadata": {},
   "source": [
    "# Prompt de prueba"
   ]
  },
  {
   "cell_type": "code",
   "execution_count": 6,
   "id": "96ba7fb9",
   "metadata": {},
   "outputs": [],
   "source": [
    "prompt = \"\"\"\n",
    "Eres un asistente de IA para el proyecto 'reLecture'.\n",
    "Analiza el siguiente fragmento de una clase y realiza dos tareas:\n",
    "1.  Clasifica el sentimiento general del profesor (positivo, neutro, negativo).\n",
    "2.  Cuenta cuántas preguntas abiertas se hicieron.\n",
    "\n",
    "Fragmento de la clase:\n",
    "'Muy bien, entonces, ¿alguien puede explicar por qué la fotosíntesis es crucial para la vida en la Tierra? Piensen en el oxígeno... ¿Qué pasaría si no tuviéramos plantas? Es una buena pregunta para reflexionar. Excelente participación de todos hoy.'\n",
    "\"\"\""
   ]
  },
  {
   "cell_type": "markdown",
   "id": "093626de",
   "metadata": {},
   "source": [
    "# Gemini contesta"
   ]
  },
  {
   "cell_type": "code",
   "execution_count": 7,
   "id": "1795b410",
   "metadata": {},
   "outputs": [
    {
     "name": "stdout",
     "output_type": "stream",
     "text": [
      "1. **Sentimiento general del profesor:** Positivo.  Las frases \"Muy bien\", \"Excelente participación de todos hoy\" indican una valoración positiva por parte del profesor.\n",
      "\n",
      "\n",
      "2. **Preguntas abiertas:** 1.  \"¿alguien puede explicar por qué la fotosíntesis es crucial para la vida en la Tierra?\"\n",
      "\n"
     ]
    }
   ],
   "source": [
    "response = model.generate_content(prompt)\n",
    "print(response.text)"
   ]
  }
 ],
 "metadata": {
  "kernelspec": {
   "display_name": "education-ai-analytics-8934qOXF",
   "language": "python",
   "name": "python3"
  },
  "language_info": {
   "codemirror_mode": {
    "name": "ipython",
    "version": 3
   },
   "file_extension": ".py",
   "mimetype": "text/x-python",
   "name": "python",
   "nbconvert_exporter": "python",
   "pygments_lexer": "ipython3",
   "version": "3.10.6"
  }
 },
 "nbformat": 4,
 "nbformat_minor": 5
}
