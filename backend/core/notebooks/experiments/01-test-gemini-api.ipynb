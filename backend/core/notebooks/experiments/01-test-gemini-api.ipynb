{
 "cells": [
  {
   "cell_type": "markdown",
   "id": "4662a1fd",
   "metadata": {},
   "source": [
    "# \"Iniciar sesión\""
   ]
  },
  {
   "cell_type": "code",
   "execution_count": 1,
   "id": "6d81ae0a",
   "metadata": {},
   "outputs": [],
   "source": [
    "from google import genai\n",
    "\n",
    "client = genai.Client()"
   ]
  },
  {
   "cell_type": "markdown",
   "id": "81b37561",
   "metadata": {},
   "source": [
    "# Prompt de prueba"
   ]
  },
  {
   "cell_type": "code",
   "execution_count": 2,
   "id": "96ba7fb9",
   "metadata": {},
   "outputs": [],
   "source": [
    "PROMPT = \"\"\"\n",
    "Eres un asistente de IA para el proyecto 'reLecture'.\n",
    "Analiza el siguiente fragmento de una clase y realiza dos tareas:\n",
    "1.  Clasifica el sentimiento general del profesor (positivo, neutro, negativo).\n",
    "2.  Cuenta cuántas preguntas abiertas se hicieron.\n",
    "\n",
    "Fragmento de la clase:\n",
    "'Muy bien, entonces, ¿alguien puede explicar por qué la fotosíntesis es crucial para la vida en la Tierra? Piensen en el oxígeno... ¿Qué pasaría si no tuviéramos plantas? Es una buena pregunta para reflexionar. Excelente participación de todos hoy.'\n",
    "\"\"\""
   ]
  },
  {
   "cell_type": "markdown",
   "id": "0c2df7a4",
   "metadata": {},
   "source": [
    "# Seleccionar modelo\n",
    "Hay de diferentes [precios](https://ai.google.dev/gemini-api/docs/pricing)"
   ]
  },
  {
   "cell_type": "code",
   "execution_count": 3,
   "id": "6ea56ccc",
   "metadata": {},
   "outputs": [],
   "source": [
    "MODEL = 'gemini-1.5-flash-8b'"
   ]
  },
  {
   "cell_type": "markdown",
   "id": "3e32fd6a",
   "metadata": {},
   "source": [
    "# Mandar prompt"
   ]
  },
  {
   "cell_type": "code",
   "execution_count": 4,
   "id": "1795b410",
   "metadata": {},
   "outputs": [],
   "source": [
    "response = client.models.generate_content(\n",
    "    model=MODEL,\n",
    "    contents=PROMPT\n",
    ")"
   ]
  },
  {
   "cell_type": "markdown",
   "id": "093626de",
   "metadata": {},
   "source": [
    "# Gemini contesta"
   ]
  },
  {
   "cell_type": "code",
   "execution_count": 5,
   "id": "157a59f3",
   "metadata": {},
   "outputs": [
    {
     "name": "stdout",
     "output_type": "stream",
     "text": [
      "Análisis del fragmento de clase para 'reLecture':\n",
      "\n",
      "1. **Sentimiento general del profesor:** Positivo.  El profesor utiliza frases como \"Muy bien\", \"Excelente participación\" y expresa un reconocimiento por las respuestas de los alumnos.\n",
      "\n",
      "\n",
      "2. **Preguntas abiertas:** Se hizo una pregunta abierta: \"¿alguien puede explicar por qué la fotosíntesis es crucial para la vida en la Tierra?\".\n",
      "\n"
     ]
    }
   ],
   "source": [
    "print(response.text)"
   ]
  }
 ],
 "metadata": {
  "kernelspec": {
   "display_name": "venv",
   "language": "python",
   "name": "python3"
  },
  "language_info": {
   "codemirror_mode": {
    "name": "ipython",
    "version": 3
   },
   "file_extension": ".py",
   "mimetype": "text/x-python",
   "name": "python",
   "nbconvert_exporter": "python",
   "pygments_lexer": "ipython3",
   "version": "3.10.6"
  }
 },
 "nbformat": 4,
 "nbformat_minor": 5
}
