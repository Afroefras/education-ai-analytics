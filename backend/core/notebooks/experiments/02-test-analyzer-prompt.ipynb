{
 "cells": [
  {
   "cell_type": "markdown",
   "id": "cf64c59b",
   "metadata": {},
   "source": [
    "# Definir ruta principal"
   ]
  },
  {
   "cell_type": "code",
   "execution_count": 1,
   "id": "a2f61d00",
   "metadata": {},
   "outputs": [
    {
     "data": {
      "text/plain": [
       "WindowsPath('c:/Users/efrai/CascadeProjects/education-ai-analytics/backend/core/notebooks/experiments')"
      ]
     },
     "execution_count": 1,
     "metadata": {},
     "output_type": "execute_result"
    }
   ],
   "source": [
    "from pathlib import Path\n",
    "\n",
    "current_dir = Path().cwd()\n",
    "current_dir"
   ]
  },
  {
   "cell_type": "code",
   "execution_count": 2,
   "id": "fedb808d",
   "metadata": {},
   "outputs": [
    {
     "data": {
      "text/plain": [
       "WindowsPath('c:/Users/efrai/CascadeProjects/education-ai-analytics/backend')"
      ]
     },
     "execution_count": 2,
     "metadata": {},
     "output_type": "execute_result"
    }
   ],
   "source": [
    "main_dir = current_dir.parent.parent.parent\n",
    "main_dir"
   ]
  },
  {
   "cell_type": "markdown",
   "id": "2dad1f46",
   "metadata": {},
   "source": [
    "# Obtener prompt"
   ]
  },
  {
   "cell_type": "markdown",
   "id": "08b74672",
   "metadata": {},
   "source": [
    "Definir ruta del prompt"
   ]
  },
  {
   "cell_type": "code",
   "execution_count": 3,
   "id": "0b2692c8",
   "metadata": {},
   "outputs": [],
   "source": [
    "PROMPTS_DIR = main_dir.joinpath('core', 'prompts')\n",
    "PROMPT_NAME = 'get_metrics.txt'\n",
    "\n",
    "prompt_path = PROMPTS_DIR.joinpath(PROMPT_NAME)"
   ]
  },
  {
   "cell_type": "markdown",
   "id": "3738a361",
   "metadata": {},
   "source": [
    "Guardar el .txt en una variable"
   ]
  },
  {
   "cell_type": "code",
   "execution_count": 4,
   "id": "609ab658",
   "metadata": {},
   "outputs": [],
   "source": [
    "with open(prompt_path, 'r', encoding='utf-8') as file:\n",
    "    get_metrics_prompt = file.read()"
   ]
  },
  {
   "cell_type": "markdown",
   "id": "998ff79a",
   "metadata": {},
   "source": [
    "Primeros 100 caracteres del texto"
   ]
  },
  {
   "cell_type": "code",
   "execution_count": 5,
   "id": "b29357d6",
   "metadata": {},
   "outputs": [
    {
     "data": {
      "text/plain": [
       "'Eres un experto en análisis de transcripciones de clases. Tu tarea es analizar la transcripción prop'"
      ]
     },
     "execution_count": 5,
     "metadata": {},
     "output_type": "execute_result"
    }
   ],
   "source": [
    "get_metrics_prompt[:100]"
   ]
  },
  {
   "cell_type": "markdown",
   "id": "567a111c",
   "metadata": {},
   "source": [
    "# Obtener transcripción"
   ]
  },
  {
   "cell_type": "code",
   "execution_count": 6,
   "id": "7f3d4fb3",
   "metadata": {},
   "outputs": [],
   "source": [
    "transcript = \"\"\"\n",
    "Transcripción clase: Introducción a Machine Learning  \n",
    "Fecha: 12 de marzo de 2025  \n",
    "Duración: 1 hora  \n",
    "Docente: Dra. Mariana Torres  \n",
    "Plataforma: Microsoft Teams  \n",
    "Participantes: David, Fernanda, Luis, Natalia, Andrés, Sofía, Raúl, Camila\n",
    "\n",
    "---\n",
    "\n",
    "DRA. MARIANA TORRES (0:00)  \n",
    "Buenos días, grupo. ¿Ya me escuchan todos? Vamos a iniciar puntual porque hoy tenemos bastante contenido. Vamos a entrarle de lleno a *Machine Learning*, un tema clave si les interesa el análisis de datos, inteligencia artificial o automatización.\n",
    "\n",
    "FERNANDA (0:15)  \n",
    "Sí se escucha profe.\n",
    "\n",
    "DAVID (0:17)  \n",
    "Poquito cortado, pero ya lo arreglé.\n",
    "\n",
    "DRA. MARIANA TORRES (0:20)  \n",
    "Perfecto. Entonces, para empezar, ¿quién me dice qué entiende por aprendizaje automático?\n",
    "\n",
    "RAÚL (0:32)  \n",
    "¿Es como que las máquinas aprenden solas?\n",
    "\n",
    "DRA. MARIANA TORRES (0:34)  \n",
    "Sí, aunque no del todo solas. Nosotros les damos datos y algoritmos, y ellas aprenden patrones. Machine Learning es permitir que una máquina mejore su rendimiento en una tarea específica, sin ser programada de forma directa para cada decisión.\n",
    "\n",
    "LUIS (0:50)  \n",
    "¿Eso es como lo de Netflix que me recomienda series?\n",
    "\n",
    "DRA. MARIANA TORRES (0:52)  \n",
    "Exactamente. Eso es un ejemplo de modelo supervisado. El sistema aprende a partir de lo que viste antes y de los datos de usuarios similares.\n",
    "\n",
    "CAMILA (1:01)  \n",
    "¿Y hay varios tipos de aprendizaje?\n",
    "\n",
    "DRA. MARIANA TORRES (1:03)  \n",
    "Muy bien. Tenemos tres principales: supervisado, no supervisado y por refuerzo. En el primero, el sistema aprende con datos etiquetados. En el segundo, no hay etiquetas, solo encuentra patrones. Y en el tercero, aprende a base de ensayo y error, como si fuera un videojuego.\n",
    "\n",
    "SOFÍA (1:20)  \n",
    "¿El de refuerzo se usa en robots?\n",
    "\n",
    "DRA. MARIANA TORRES (1:22)  \n",
    "Sí, o en sistemas como los autos autónomos. Reciben recompensas o penalizaciones según las decisiones que toman.\n",
    "\n",
    "NATALIA (1:30)  \n",
    "¿Y esos datos deben ser siempre numéricos?\n",
    "\n",
    "DRA. MARIANA TORRES (1:33)  \n",
    "No necesariamente. Pueden ser textos, imágenes, sonidos… pero sí deben ser estructurados o transformables para que el modelo los entienda.\n",
    "\n",
    "ANDRÉS (1:40)  \n",
    "¿Y necesitamos saber matemáticas para esto?\n",
    "\n",
    "DRA. MARIANA TORRES (1:43)  \n",
    "Sí, pero no se asusten. Vamos a ir trabajando con lo esencial: probabilidades, álgebra básica y algo de estadística.\n",
    "\n",
    "FERNANDA (1:52)  \n",
    "Profe, ¿y esos modelos son confiables? ¿No se equivocan?\n",
    "\n",
    "DRA. MARIANA TORRES (1:55)  \n",
    "Buena pregunta. Claro que se equivocan. Un modelo es tan bueno como los datos que se le dan. Si los datos están mal o sesgados, el modelo aprende mal. Hay que validar, ajustar y evaluar siempre.\n",
    "\n",
    "RAÚL (2:05)  \n",
    "¿Y eso de que discriminan es cierto?\n",
    "\n",
    "DRA. MARIANA TORRES (2:07)  \n",
    "Sí. Si el conjunto de datos tiene sesgos raciales, de género o económicos, el modelo los hereda. Ha pasado en procesos de selección, bancos, e incluso sistemas policiales.\n",
    "\n",
    "SOFÍA (2:15)  \n",
    "¿Entonces la IA puede ser injusta?\n",
    "\n",
    "DRA. MARIANA TORRES (2:17)  \n",
    "Sí, por eso hablamos de *IA ética*. Hay que diseñar modelos responsables. Este es un tema cada vez más importante.\n",
    "\n",
    "DAVID (2:24)  \n",
    "Profe, ¿y se puede corregir eso?\n",
    "\n",
    "DRA. MARIANA TORRES (2:26)  \n",
    "Sí, usando filtros, técnicas de reponderación de datos, o auditorías algorítmicas. Pero requiere conciencia desde el diseño.\n",
    "\n",
    "FERNANDA (2:35)  \n",
    "¿Y nos va a quitar el trabajo la IA?\n",
    "\n",
    "DRA. MARIANA TORRES (2:37)  \n",
    "Jajaja, esa es la pregunta del millón. A ver… ¿qué opinan? ¿Sí o no?\n",
    "\n",
    "CAMILA (2:40)  \n",
    "Depende del trabajo, ¿no?\n",
    "\n",
    "LUIS (2:42)  \n",
    "Yo creo que va a reemplazar cosas repetitivas, pero no lo creativo.\n",
    "\n",
    "RAÚL (2:45)  \n",
    "Sí, pero hay empresas que ya no contratan recepcionistas, solo bots.\n",
    "\n",
    "DRA. MARIANA TORRES (2:48)  \n",
    "Eso es cierto. Hay tareas que van desapareciendo, pero también surgen otras nuevas. Quien sepa trabajar con datos, va a tener muchas oportunidades.\n",
    "\n",
    "NATALIA (2:55)  \n",
    "O sea que aprender esto es como una inversión a futuro.\n",
    "\n",
    "DRA. MARIANA TORRES (2:58)  \n",
    "¡Totalmente! Y además es divertido, van a ver.\n",
    "\n",
    "DRA. MARIANA TORRES (3:05)  \n",
    "Vamos a recapitular. ¿Cuáles son los pasos para crear un modelo de Machine Learning?\n",
    "\n",
    "DAVID (3:08)  \n",
    "Recolectar datos.\n",
    "\n",
    "FERNANDA (3:10)  \n",
    "Limpiar los datos.\n",
    "\n",
    "RAÚL (3:11)  \n",
    "Elegir un algoritmo.\n",
    "\n",
    "NATALIA (3:13)  \n",
    "Entrenar y evaluar.\n",
    "\n",
    "DRA. MARIANA TORRES (3:15)  \n",
    "Muy bien, excelente. Eso es. Y recuerden que siempre hay que interpretar los resultados con criterio. El modelo predice, pero el humano decide.\n",
    "\n",
    "SOFÍA (3:25)  \n",
    "¿Y hay que saber programar sí o sí?\n",
    "\n",
    "DRA. MARIANA TORRES (3:27)  \n",
    "Sí, aunque no necesitas ser experta. Con entender bien los pasos y practicar en notebooks de Python es suficiente al inicio.\n",
    "\n",
    "LUIS (3:33)  \n",
    "¿Y vamos a usar librerías?\n",
    "\n",
    "DRA. MARIANA TORRES (3:35)  \n",
    "Claro, como `scikit-learn` o `pandas`, pero primero quiero que comprendan los conceptos.\n",
    "\n",
    "ANDRÉS (3:38)  \n",
    "Profe, ¿nos puede mandar un video complementario?\n",
    "\n",
    "DRA. MARIANA TORRES (3:40)  \n",
    "Sí, se los subo esta noche a Classroom junto con una lectura.\n",
    "\n",
    "DRA. MARIANA TORRES (3:50)  \n",
    "Muy bien chicos. Hoy avanzamos bastante. La próxima sesión haremos un ejercicio paso a paso de regresión lineal. Les dejo de tarea:\n",
    "\n",
    "1. Leer el artículo “¿Qué es Machine Learning?” (está en Classroom).  \n",
    "2. Ver el video de 10 minutos que les subiré.  \n",
    "3. Traer una pregunta personal sobre una aplicación de ML.\n",
    "\n",
    "¿Alguien más con dudas?\n",
    "\n",
    "FERNANDA (3:58)  \n",
    "¿Podemos escribir la pregunta en Teams?\n",
    "\n",
    "DRA. MARIANA TORRES (4:00)  \n",
    "Sí, pueden dejarla ahí o traerla escrita. Lo importante es que sea suya.\n",
    "\n",
    "RAÚL (4:02)  \n",
    "Gracias profe, me gustó la clase.\n",
    "\n",
    "SOFÍA (4:03)  \n",
    "A mí también, aunque sí da miedito jajaja.\n",
    "\n",
    "DRA. MARIANA TORRES (4:05)  \n",
    "¡Jajaja, es normal! Nos vemos el jueves, y gracias por su participación. ¡Chao!\n",
    "\n",
    "\"\"\""
   ]
  },
  {
   "cell_type": "markdown",
   "id": "1a5aade7",
   "metadata": {},
   "source": [
    "# Actualizar prompt!"
   ]
  },
  {
   "cell_type": "code",
   "execution_count": 7,
   "id": "351119cd",
   "metadata": {},
   "outputs": [
    {
     "data": {
      "text/plain": [
       "('Eres un experto en análisis de transcripciones de clases. Tu tarea es analizar la transcripción prop',\n",
       " 'NA TORRES (4:05)  \\n¡Jajaja, es normal! Nos vemos el jueves, y gracias por su participación. ¡Chao!\\n\\n')"
      ]
     },
     "execution_count": 7,
     "metadata": {},
     "output_type": "execute_result"
    }
   ],
   "source": [
    "final_prompt = get_metrics_prompt + transcript\n",
    "\n",
    "final_prompt[:100], final_prompt[-100:]"
   ]
  },
  {
   "cell_type": "markdown",
   "id": "e5481ef8",
   "metadata": {},
   "source": [
    "# Gemini, come here!"
   ]
  },
  {
   "cell_type": "markdown",
   "id": "2741912d",
   "metadata": {},
   "source": [
    "\"Iniciar sesión\".\n",
    "\n",
    "Necesitas la variable GEMINI_API_KEY en tu archivo .env"
   ]
  },
  {
   "cell_type": "code",
   "execution_count": 8,
   "id": "1b73a687",
   "metadata": {},
   "outputs": [],
   "source": [
    "from google import genai\n",
    "\n",
    "client = genai.Client()"
   ]
  },
  {
   "cell_type": "markdown",
   "id": "7179d51b",
   "metadata": {},
   "source": [
    "Seleccionar modelo. Dado que estamos probando, puede ser el más caro."
   ]
  },
  {
   "cell_type": "code",
   "execution_count": 9,
   "id": "d15010f9",
   "metadata": {},
   "outputs": [],
   "source": [
    "ANALYZER_MODEL = 'gemini-2.5-pro'"
   ]
  },
  {
   "cell_type": "markdown",
   "id": "9b3f5725",
   "metadata": {},
   "source": [
    "# Métricas"
   ]
  },
  {
   "cell_type": "markdown",
   "id": "9fe0c5b5",
   "metadata": {},
   "source": [
    "**IMPORTANTE**: NO correr tanto la siguiente celda para no incurrir en mucho costo.\n",
    "\n",
    "PD. Tarda ~1min"
   ]
  },
  {
   "cell_type": "code",
   "execution_count": 10,
   "id": "4e3bc5ca",
   "metadata": {},
   "outputs": [],
   "source": [
    "response = client.models.generate_content(\n",
    "    model=ANALYZER_MODEL,\n",
    "    contents=final_prompt\n",
    ")"
   ]
  },
  {
   "cell_type": "markdown",
   "id": "c7b0cb72",
   "metadata": {},
   "source": [
    "Listo! Ya podemos usar las métricas para enviarlas al frontend 🎉"
   ]
  },
  {
   "cell_type": "code",
   "execution_count": 11,
   "id": "cb1e5a0f",
   "metadata": {},
   "outputs": [
    {
     "data": {
      "text/plain": [
       "{'concepts': ['Machine Learning',\n",
       "  'análisis de datos',\n",
       "  'inteligencia artificial',\n",
       "  'automatización',\n",
       "  'aprendizaje automático',\n",
       "  'algoritmos',\n",
       "  'patrones',\n",
       "  'modelo supervisado'],\n",
       " 'professor_questions_count': 2,\n",
       " 'professor_questions': [{'question': '¿Ya me escuchan todos?',\n",
       "   'answer': 'Sí se escucha profe.'},\n",
       "  {'question': '¿quién me dice qué entiende por aprendizaje automático?',\n",
       "   'answer': '¿Es como que las máquinas aprenden solas? ... Sí, aunque no del todo solas. Nosotros les damos datos y algoritmos, y ellas aprenden patrones.'}],\n",
       " 'student_questions_count': 2,\n",
       " 'student_questions': [{'question': '¿Es como que las máquinas aprenden solas?',\n",
       "   'answer': 'Sí, aunque no del todo solas. Nosotros les damos datos y algoritmos, y ellas aprenden patrones. Machine Learning es permitir que una máquina mejore su rendimiento en una tarea específica, sin ser programada de forma directa para cada decisión.'},\n",
       "  {'question': '¿Eso es como lo de Netflix que me recomienda series?',\n",
       "   'answer': 'Exactamente. Eso es un ejemplo de modelo supervisado. El sistema aprende a partir de lo que viste antes y de los datos de usuarios similares.'}],\n",
       " 'examples_count': 1,\n",
       " 'examples': ['Recomendaciones de series en Netflix'],\n",
       " 'talk_time': {'professor': '00:51', 'students': '00:09'},\n",
       " 'teaching_style': {'questioning': 0.196,\n",
       "  'correcting': 0.098,\n",
       "  'explanation': 0.6864,\n",
       "  'encouraging': 0.0196}}"
      ]
     },
     "execution_count": 11,
     "metadata": {},
     "output_type": "execute_result"
    }
   ],
   "source": [
    "import json\n",
    "\n",
    "metrics = json.loads(response.text)\n",
    "\n",
    "metrics['0']"
   ]
  }
 ],
 "metadata": {
  "kernelspec": {
   "display_name": "venv",
   "language": "python",
   "name": "python3"
  },
  "language_info": {
   "codemirror_mode": {
    "name": "ipython",
    "version": 3
   },
   "file_extension": ".py",
   "mimetype": "text/x-python",
   "name": "python",
   "nbconvert_exporter": "python",
   "pygments_lexer": "ipython3",
   "version": "3.10.6"
  }
 },
 "nbformat": 4,
 "nbformat_minor": 5
}
