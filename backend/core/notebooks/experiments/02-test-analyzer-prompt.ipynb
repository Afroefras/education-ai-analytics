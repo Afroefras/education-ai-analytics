{
 "cells": [
  {
   "cell_type": "markdown",
   "id": "cf64c59b",
   "metadata": {},
   "source": [
    "# Definir ruta principal"
   ]
  },
  {
   "cell_type": "code",
   "execution_count": 1,
   "id": "a2f61d00",
   "metadata": {},
   "outputs": [
    {
     "data": {
      "text/plain": [
       "WindowsPath('c:/Users/efrai/CascadeProjects/education-ai-analytics/backend/core/notebooks/experiments')"
      ]
     },
     "execution_count": 1,
     "metadata": {},
     "output_type": "execute_result"
    }
   ],
   "source": [
    "from pathlib import Path\n",
    "\n",
    "current_dir = Path().cwd()\n",
    "current_dir"
   ]
  },
  {
   "cell_type": "code",
   "execution_count": 2,
   "id": "fedb808d",
   "metadata": {},
   "outputs": [
    {
     "data": {
      "text/plain": [
       "WindowsPath('c:/Users/efrai/CascadeProjects/education-ai-analytics/backend')"
      ]
     },
     "execution_count": 2,
     "metadata": {},
     "output_type": "execute_result"
    }
   ],
   "source": [
    "main_dir = current_dir.parent.parent.parent\n",
    "main_dir"
   ]
  },
  {
   "cell_type": "markdown",
   "id": "2dad1f46",
   "metadata": {},
   "source": [
    "# Obtener prompt"
   ]
  },
  {
   "cell_type": "markdown",
   "id": "08b74672",
   "metadata": {},
   "source": [
    "Definir ruta del prompt"
   ]
  },
  {
   "cell_type": "code",
   "execution_count": 3,
   "id": "0b2692c8",
   "metadata": {},
   "outputs": [],
   "source": [
    "PROMPTS_DIR = main_dir.joinpath('core', 'prompts')\n",
    "PROMPT_NAME = 'get_metrics.txt'\n",
    "\n",
    "prompt_path = PROMPTS_DIR.joinpath(PROMPT_NAME)"
   ]
  },
  {
   "cell_type": "markdown",
   "id": "3738a361",
   "metadata": {},
   "source": [
    "Guardar el .txt en una variable"
   ]
  },
  {
   "cell_type": "code",
   "execution_count": 4,
   "id": "609ab658",
   "metadata": {},
   "outputs": [],
   "source": [
    "with open(prompt_path, 'r', encoding='utf-8') as file:\n",
    "    get_metrics_prompt = file.read()"
   ]
  },
  {
   "cell_type": "markdown",
   "id": "998ff79a",
   "metadata": {},
   "source": [
    "Primeros 100 caracteres del texto"
   ]
  },
  {
   "cell_type": "code",
   "execution_count": 5,
   "id": "b29357d6",
   "metadata": {},
   "outputs": [
    {
     "data": {
      "text/plain": [
       "'Eres un experto en análisis de transcripciones de clases. Tu tarea es analizar la transcripción prop'"
      ]
     },
     "execution_count": 5,
     "metadata": {},
     "output_type": "execute_result"
    }
   ],
   "source": [
    "get_metrics_prompt[:100]"
   ]
  },
  {
   "cell_type": "markdown",
   "id": "567a111c",
   "metadata": {},
   "source": [
    "# Obtener transcripción"
   ]
  },
  {
   "cell_type": "code",
   "execution_count": 7,
   "id": "3f18d244",
   "metadata": {},
   "outputs": [],
   "source": [
    "CLEAN_TRANSCRIPTS_DIR = main_dir.joinpath('core', 'data', 'clean', 'test')\n",
    "CLEAN_TRANSCRIPT_NAME = 'sample_01.txt'\n",
    "\n",
    "clean_transcript_path = CLEAN_TRANSCRIPTS_DIR.joinpath(CLEAN_TRANSCRIPT_NAME)\n",
    "\n",
    "with open(clean_transcript_path, 'r', encoding='utf-8') as file:\n",
    "    clean_transcript = file.read()"
   ]
  },
  {
   "cell_type": "markdown",
   "id": "b73112ad",
   "metadata": {},
   "source": [
    "Últimos 100 caracteres del transcript"
   ]
  },
  {
   "cell_type": "code",
   "execution_count": 8,
   "id": "dfaf4cf1",
   "metadata": {},
   "outputs": [
    {
     "data": {
      "text/plain": [
       "'ANA TORRES (4:05)  \\n¡Jajaja, es normal! Nos vemos el jueves, y gracias por su participación. ¡Chao!\\n'"
      ]
     },
     "execution_count": 8,
     "metadata": {},
     "output_type": "execute_result"
    }
   ],
   "source": [
    "clean_transcript[-100:]"
   ]
  },
  {
   "cell_type": "markdown",
   "id": "1a5aade7",
   "metadata": {},
   "source": [
    "# Actualizar prompt!"
   ]
  },
  {
   "cell_type": "code",
   "execution_count": 10,
   "id": "351119cd",
   "metadata": {},
   "outputs": [
    {
     "data": {
      "text/plain": [
       "('Eres un experto en análisis de transcripciones de clases. Tu tarea es analizar la transcripción prop',\n",
       " 'ANA TORRES (4:05)  \\n¡Jajaja, es normal! Nos vemos el jueves, y gracias por su participación. ¡Chao!\\n')"
      ]
     },
     "execution_count": 10,
     "metadata": {},
     "output_type": "execute_result"
    }
   ],
   "source": [
    "final_prompt = get_metrics_prompt + clean_transcript\n",
    "\n",
    "final_prompt[:100], final_prompt[-100:]"
   ]
  },
  {
   "cell_type": "markdown",
   "id": "e5481ef8",
   "metadata": {},
   "source": [
    "# Gemini, come here!"
   ]
  },
  {
   "cell_type": "markdown",
   "id": "2741912d",
   "metadata": {},
   "source": [
    "\"Iniciar sesión\".\n",
    "\n",
    "Necesitas la variable GEMINI_API_KEY en tu archivo .env"
   ]
  },
  {
   "cell_type": "code",
   "execution_count": 8,
   "id": "1b73a687",
   "metadata": {},
   "outputs": [],
   "source": [
    "from google import genai\n",
    "\n",
    "client = genai.Client()"
   ]
  },
  {
   "cell_type": "markdown",
   "id": "7179d51b",
   "metadata": {},
   "source": [
    "Seleccionar modelo. Dado que estamos probando, puede ser el más caro."
   ]
  },
  {
   "cell_type": "code",
   "execution_count": 9,
   "id": "d15010f9",
   "metadata": {},
   "outputs": [],
   "source": [
    "ANALYZER_MODEL = 'gemini-2.5-pro'"
   ]
  },
  {
   "cell_type": "markdown",
   "id": "9b3f5725",
   "metadata": {},
   "source": [
    "# Métricas"
   ]
  },
  {
   "cell_type": "markdown",
   "id": "9fe0c5b5",
   "metadata": {},
   "source": [
    "**IMPORTANTE**: NO correr tanto la siguiente celda para no incurrir en mucho costo.\n",
    "\n",
    "PD. Tarda ~1min"
   ]
  },
  {
   "cell_type": "code",
   "execution_count": 10,
   "id": "4e3bc5ca",
   "metadata": {},
   "outputs": [],
   "source": [
    "response = client.models.generate_content(\n",
    "    model=ANALYZER_MODEL,\n",
    "    contents=final_prompt\n",
    ")"
   ]
  },
  {
   "cell_type": "markdown",
   "id": "c7b0cb72",
   "metadata": {},
   "source": [
    "Listo! Ya podemos usar las métricas para enviarlas al frontend 🎉"
   ]
  },
  {
   "cell_type": "code",
   "execution_count": 11,
   "id": "cb1e5a0f",
   "metadata": {},
   "outputs": [
    {
     "data": {
      "text/plain": [
       "{'concepts': ['Machine Learning',\n",
       "  'análisis de datos',\n",
       "  'inteligencia artificial',\n",
       "  'automatización',\n",
       "  'aprendizaje automático',\n",
       "  'algoritmos',\n",
       "  'patrones',\n",
       "  'modelo supervisado'],\n",
       " 'professor_questions_count': 2,\n",
       " 'professor_questions': [{'question': '¿Ya me escuchan todos?',\n",
       "   'answer': 'Sí se escucha profe.'},\n",
       "  {'question': '¿quién me dice qué entiende por aprendizaje automático?',\n",
       "   'answer': '¿Es como que las máquinas aprenden solas? ... Sí, aunque no del todo solas. Nosotros les damos datos y algoritmos, y ellas aprenden patrones.'}],\n",
       " 'student_questions_count': 2,\n",
       " 'student_questions': [{'question': '¿Es como que las máquinas aprenden solas?',\n",
       "   'answer': 'Sí, aunque no del todo solas. Nosotros les damos datos y algoritmos, y ellas aprenden patrones. Machine Learning es permitir que una máquina mejore su rendimiento en una tarea específica, sin ser programada de forma directa para cada decisión.'},\n",
       "  {'question': '¿Eso es como lo de Netflix que me recomienda series?',\n",
       "   'answer': 'Exactamente. Eso es un ejemplo de modelo supervisado. El sistema aprende a partir de lo que viste antes y de los datos de usuarios similares.'}],\n",
       " 'examples_count': 1,\n",
       " 'examples': ['Recomendaciones de series en Netflix'],\n",
       " 'talk_time': {'professor': '00:51', 'students': '00:09'},\n",
       " 'teaching_style': {'questioning': 0.196,\n",
       "  'correcting': 0.098,\n",
       "  'explanation': 0.6864,\n",
       "  'encouraging': 0.0196}}"
      ]
     },
     "execution_count": 11,
     "metadata": {},
     "output_type": "execute_result"
    }
   ],
   "source": [
    "import json\n",
    "\n",
    "metrics = json.loads(response.text)\n",
    "\n",
    "metrics['0']"
   ]
  }
 ],
 "metadata": {
  "kernelspec": {
   "display_name": "venv",
   "language": "python",
   "name": "python3"
  },
  "language_info": {
   "codemirror_mode": {
    "name": "ipython",
    "version": 3
   },
   "file_extension": ".py",
   "mimetype": "text/x-python",
   "name": "python",
   "nbconvert_exporter": "python",
   "pygments_lexer": "ipython3",
   "version": "3.10.6"
  }
 },
 "nbformat": 4,
 "nbformat_minor": 5
}
