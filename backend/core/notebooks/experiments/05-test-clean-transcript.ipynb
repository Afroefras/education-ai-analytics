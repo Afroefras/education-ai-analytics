{
 "cells": [
  {
   "cell_type": "markdown",
   "id": "79ca3930",
   "metadata": {},
   "source": [
    "# Definir ruta principal"
   ]
  },
  {
   "cell_type": "code",
   "execution_count": 1,
   "id": "26865c50",
   "metadata": {},
   "outputs": [
    {
     "data": {
      "text/plain": [
       "WindowsPath('c:/Users/efrai/CascadeProjects/education-ai-analytics/backend')"
      ]
     },
     "execution_count": 1,
     "metadata": {},
     "output_type": "execute_result"
    }
   ],
   "source": [
    "from pathlib import Path\n",
    "\n",
    "current_dir = Path().cwd()\n",
    "main_dir = current_dir.parent.parent.parent\n",
    "main_dir"
   ]
  },
  {
   "cell_type": "markdown",
   "id": "fe4a9cc6",
   "metadata": {},
   "source": [
    "# Agregar ruta principal como librería\n",
    "Para poder usar nuestro código como si fuera cualquier otra librería de Python"
   ]
  },
  {
   "cell_type": "code",
   "execution_count": 2,
   "id": "9a95071a",
   "metadata": {},
   "outputs": [],
   "source": [
    "import sys\n",
    "\n",
    "sys.path.append(str(main_dir))"
   ]
  },
  {
   "cell_type": "markdown",
   "id": "84edb50f",
   "metadata": {},
   "source": [
    "# Importar nuestro modelo de lenguaje `Cleaner`"
   ]
  },
  {
   "cell_type": "code",
   "execution_count": 3,
   "id": "b1af609f",
   "metadata": {},
   "outputs": [
    {
     "name": "stdout",
     "output_type": "stream",
     "text": [
      "Large Language Model (LLM) class:\n",
      "Cleaner ready!\n"
     ]
    }
   ],
   "source": [
    "from core.utils.llm_cleaner import Cleaner\n",
    "\n",
    "cleaner = Cleaner()\n",
    "print(cleaner)"
   ]
  },
  {
   "cell_type": "markdown",
   "id": "e273b179",
   "metadata": {},
   "source": [
    "# De dónde viene el prompt y el transcript?"
   ]
  },
  {
   "cell_type": "code",
   "execution_count": 4,
   "id": "87a2780c",
   "metadata": {},
   "outputs": [],
   "source": [
    "PROMPT_PATH = main_dir.joinpath('core', 'prompts', 'clean_transcript.txt')\n",
    "TRANSCRIPT_PATH = main_dir.joinpath('core', 'data', 'raw', 'test', 'portfolio_real_class.docx')"
   ]
  },
  {
   "cell_type": "markdown",
   "id": "3e040683",
   "metadata": {},
   "source": [
    "# Qué modelo vamos a usar?"
   ]
  },
  {
   "cell_type": "code",
   "execution_count": 5,
   "id": "c08aa611",
   "metadata": {},
   "outputs": [],
   "source": [
    "MODEL = 'gemini-2.5-pro'"
   ]
  },
  {
   "cell_type": "markdown",
   "id": "ca1f1225",
   "metadata": {},
   "source": [
    "# A limpiar!"
   ]
  },
  {
   "cell_type": "code",
   "execution_count": 6,
   "id": "913a0af4",
   "metadata": {},
   "outputs": [],
   "source": [
    "clean_transcript = cleaner.run(\n",
    "    prompt_path=PROMPT_PATH,\n",
    "    transcript_path=TRANSCRIPT_PATH,\n",
    "    model_name=MODEL\n",
    ")"
   ]
  },
  {
   "cell_type": "code",
   "execution_count": 7,
   "id": "59fb327b",
   "metadata": {},
   "outputs": [
    {
     "name": "stdout",
     "output_type": "stream",
     "text": [
      "**Transcripción de clase: Proyecto de Inversión y Formación de Equipos**\n",
      "**Fecha:** 29 de noviembre de 2024\n",
      "**Docente:** Fabiola Acosta Lopez\n",
      "**Plataforma:** Microsoft Teams\n",
      "**Participantes:** Ana Camila Yañez Fuentes, Andrea Flores Melo, Eduardo Antonio Rios Calleja, Fabiola Acosta Lopez, Jessica Daniela Saldaña Garcia, Jonatan Alejandro González Cázares, Mariana Denise Barreras Garcia, Melissa Sofía Valdez Borbón.\n",
      "\n",
      "***\n",
      "\n",
      "FABIOLA ACOSTA LOPEZ (0:03)\n",
      "Definiendo el objetivo.\n",
      "\n",
      "ANA CAMILA YAÑEZ FUENTES (1:22)\n",
      "Miss.\n",
      "\n",
      "FABIOLA ACOSTA LOPEZ (1:30)\n",
      "Mande, dime.\n",
      "\n",
      "ANA CAMILA YAÑEZ FUENTES (1:32)\n",
      "Ah, creí que no se escuchaba.\n",
      "\n",
      "FABIOLA ACOSTA LOPEZ (1:37)\n",
      "Les decía que cómo van a empezar su proyecto. Es más que nada compartiendo qué tipo de objetivos van a tener; si es para jubilación, ya ven que ese es de largo plazo, de 20 a 30 años, sobre todo ustedes que tienen un promedio de 20 años. Para comprar una casa, de 10 a 15 años. ¿Para un viaje? ¿El viaje lo quieren terminando su carrera, que más o menos terminan en uno o dos años? ¿Cuál es el tiempo? ¿Cuál es la tolerancia que tienen al riesgo? Esto quiere decir cuánto van a poner en renta fija, en renta variable, en los fondos de inversión, en los inmuebles, que son las fibras u otras.\n",
      "\n",
      "Algunos proyectos que me presentaron en otro salón le van a meter a lo que son las criptomonedas, pero como es de alto riesgo, le metieron apenas un 10 % de su capital total. ¿Ustedes también van a ser mixtos? Por ejemplo, indizados. Acuérdense que los inversionistas que son indizados son los que invierten en países. Un ejemplo de ello es lo que yo les compartí: que en cada acción que compran en el país, invierten en cada una de las empresas de ese país. ¿O patrimonial, que se van a inclinar solo por empresas? ¿O mixto?\n",
      "\n",
      "¿Y qué instrumentos van a utilizar? ¿Qué porcentaje de renta fija, qué porcentaje de renta variable, fondos de inversión o inmuebles? Y diversificando, recuerden que es muy importante diversificar, no poner todos los huevos en una sola canasta. Hay que distribuir todos los activos que tienen para reducir el riesgo. Tengo dos alumnos en otro salón que ya están invirtiendo, empezaron a invertir y utilizaron la herramienta de Markowitz. Con esta herramienta estadística empezaron a mover dónde querían invertir en las acciones. Me dijeron que tienen tres semanas y, de acuerdo a la propuesta que les dio la herramienta, así lo hicieron, lo diversificaron y le están ganando. Entonces, es una opción.\n",
      "\n",
      "Aquí les pongo los rubros o los tipos de empresa en los que pueden invertir:\n",
      "- **Consumo básico:** todo lo que comemos, lo que usamos para higiene personal, lo que consumimos para vivir el día a día.\n",
      "- **Consumo discrecional:** son todas estas empresas donde, por ejemplo, yo diario veo a muchos alumnos con su vasito de Starbucks. Es una buena propuesta porque son muchos los que consumen este tipo de producto. Las pizzas, etcétera.\n",
      "- **Área financiera:** todas las instituciones bancarias, financieras, etcétera.\n",
      "- **Industrial:** hablábamos de IEnova, Grupo México, Cemento Chihuahua, Cemex, etcétera.\n",
      "- **Energía:** es IEnova, que es todo lo que es gas, aceites, petróleo, electricidad, etcétera.\n",
      "- **Salud:** Genomma Lab, que recordemos que es una empresa que empezó a crecer. Pero déjenme les digo que hicimos un ejercicio con esta empresa y son de las que se han mantenido, pero van un poquito a la baja.\n",
      "- **Tecnología:** todo lo que es empresas de software, de telecomunicaciones, etcétera.\n",
      "- **Materiales:** empresas relacionadas con la extracción y transformación de materias primas.\n",
      "- **Bienes raíces:** lo que estamos hablando de fibras.\n",
      "- **Servicios de Comunicación:** Televisa, todo este tipo de empresas que se dedican a informar, comunicar y entretener.\n",
      "- **Energías renovables:** empresas enfocadas en el cuidado al medio ambiente. Todo esto es donde ellos invierten o piden inversión para seguir trabajando, porque es sustentable y, sobre todo, renovable.\n",
      "\n",
      "Los fondos de inversión cotizados, que son los ETF. Estos, justo, les decía, los ETF, son las acciones que se invierten en cada país o por país. Recuerden que diversificar es importante, como ya se los comenté. Hay que visualizar y estar revisando su historial. Ustedes ya saben revisarlo de los sectores que son más rentables en estos momentos, sobre todo en las tendencias que puede haber, y el perfil de riesgo que ustedes van a tomar.\n",
      "\n",
      "Otro de los puntos importantes es la estrategia de inversión. ¿Qué porcentaje de tu cartera vas a destinar a cada activo? Aquí les puse un pequeño ejemplo de cómo divido mis 1000 pesos en el rubro de la energía, servicio de comunicación, consumo básico, discrecional, etcétera. ¿Con qué secuencia? Quizás de manera semanal voy a estar invirtiendo 1000 pesos, o de manera bimestral voy a estar viendo las acciones y cada bimestre le voy a meter 1000 pesos de aquí a 5, 10 o 15 años, el tiempo que ustedes decidan.\n",
      "\n",
      "Si lo hacen continuamente, hay que revisar la cartera. Yo siempre les digo que una vez al mes, dependiendo del tipo de inversionista que sea, hay que revisar la cartera. Hay que mantenerse informado de los mercados financieros y ajustar su estrategia si es necesario. Su estrategia es la de los rubros, y esto ya se los había mostrado en alguna ocasión. Conservador, moderado y agresivo. El conservador le da más a la renta fija. Recuerden esto: renta fija, ahorro prestamista; renta variable, inversionista. El moderado da un 40 % a renta fija, 40 % a fondos de inversión y 20 % a acciones de empresas sólidas. Y el agresivo es 20 % de renta fija, 40 % de inversión y 40 % de acciones en crecimiento.\n",
      "\n",
      "Recuerden ser dosificados, empezar en pequeñas cantidades porque son nuevos inversionistas. Les doy un consejo: no tengan intermediarios. Que la única empresa intermediaria sea la casa de bolsa. Sean inversionistas independientes, tomen las decisiones de acuerdo al conocimiento y a todo lo que vayan investigando. Sobre todo, sean muy pacientes y muy disciplinados, y nunca dejen de tener educación financiera.\n",
      "\n",
      "Aquí les da unos pequeños consejos sobre cómo elegir un fondo de inversión, que ya lo vimos hace un momento. Nada más quisiera saber si alcanzaron a leer este archivo. No lo lean al cuarto para las doce porque no lo van a hacer bien. Sé que son muy buenos, pero no se confíen porque tienen que sacar precios. Si vemos el archivo que les compartí, esto es un portafolio indizado. Si quieren hacer uno patrimonial, es de las empresas, pero aquí lo único que van a cubrir es esto: qué es lo que van a manejar, el peso objetivo, y la columna de la H a la L se las va a dar porque ya tiene fórmulas. Aquí está el dinero que van a ir invirtiendo. Entonces, quiero que me digan si tienen alguna duda para presentar su proyecto.\n",
      "\n",
      "ANA CAMILA YAÑEZ FUENTES (10:56)\n",
      "Miss, si tenemos dudas mientras lo estamos haciendo, ¿le podemos mandar mensaje?\n",
      "\n",
      "FABIOLA ACOSTA LOPEZ (11:00)\n",
      "Sí.\n",
      "\n",
      "ANA CAMILA YAÑEZ FUENTES (11:04)\n",
      "Ok, yo creo que van a surgir más mientras lo hagamos.\n",
      "\n",
      "FABIOLA ACOSTA LOPEZ (11:05)\n",
      "Sí. Si se ponen a leerlo con detenimiento, como son más de dos en su equipo, lo van a ir cubriendo. Pero sí, claro, de aquí al lunes o martes sin problema, incluso hoy puedo estar atenta a lo que soliciten. Nada más para dejar claro cómo van a quedar los equipos, ¿me lo pueden decir?\n",
      "\n",
      "ANA CAMILA YAÑEZ FUENTES (11:38)\n",
      "Sí, miss. De nuestro equipo vamos a ser las cuatro: Melissa, Jessica, Caro y yo.\n",
      "\n",
      "FABIOLA ACOSTA LOPEZ (11:47)\n",
      "Ok, Melissa, Jessica, Caro y tú, Camila. Ok, ¿el siguiente equipo?\n",
      "\n",
      "ANA CAMILA YAÑEZ FUENTES (11:54)\n",
      "Camila, profe.\n",
      "\n",
      "FABIOLA ACOSTA LOPEZ (11:59)\n",
      "Gracias. Los voy a sortear para que en ese orden vayan presentando. ¿Quién será el siguiente equipo, muchachos? ¿Nadie? ¿Yo los hago?\n",
      "\n",
      "JESSICA DANIELA SALDAÑA GARCIA (12:21)\n",
      "No, espere, perdón, es que no me dejaba hablar.\n",
      "\n",
      "JESSICA DANIELA SALDAÑA GARCIA (12:25)\n",
      "Sería Nieto, Hugo, Ariel y Damián.\n",
      "\n",
      "FABIOLA ACOSTA LOPEZ (12:31)\n",
      "A ver, déjenme los pongo acá. Es más, se los voy a compartir. Nieto, Ariel, Hugo, Damián. Muy bien. ¿El tercer equipo, cuál es o quiénes son?\n",
      "\n",
      "EDUARDO ANTONIO RIOS CALLEJA (13:02)\n",
      "Emiliano.\n",
      "\n",
      "FABIOLA ACOSTA LOPEZ (13:04)\n",
      "Emiliano.\n",
      "\n",
      "EDUARDO ANTONIO RIOS CALLEJA (13:06)\n",
      "Eduardo y... ¿cómo se llama? Nuño, Diego.\n",
      "\n",
      "FABIOLA ACOSTA LOPEZ (13:11)\n",
      "Diego. ¿Sí les va a cumplir Diego?\n",
      "\n",
      "EDUARDO ANTONIO RIOS CALLEJA (13:16)\n",
      "Esperemos que sí.\n",
      "\n",
      "FABIOLA ACOSTA LOPEZ (13:18)\n",
      "¿El siguiente equipo?\n",
      "\n",
      "ANDREA FLORES MELO (13:24)\n",
      "Andrea y Andrea.\n",
      "\n",
      "FABIOLA ACOSTA LOPEZ (13:27)\n",
      "Andrea y Andrea. Bien. ¿Quién más falta?\n",
      "\n",
      "JONATAN ALEJANDRO GONZÁLEZ CÁZARES (13:33)\n",
      "Maestra, nosotros somos Marta y yo, estamos con Juan Diego y con Mariana.\n",
      "\n",
      "FABIOLA ACOSTA LOPEZ (13:39)\n",
      "Súper bien. Juan Diego y Mariana. Creo que ya son todos, ¿verdad? Serían 5 equipos. Ok, van a tener de 6 a 8 minutos para que presente cada equipo, para terminar en una hora. Sería el próximo miércoles a las 18:00 h. Hay que empezar puntuales para poder terminar a la hora. Ya ven que si todavía hay grupo a las 7 después de nosotros, casi nos sacan. Entonces, de 6 a 8 minutos es suficiente para que lo expliquen. Van a hacer una presentación y luego presentan su proyecto. ¿De acuerdo? ¿Dudas, comentarios, propuestas?\n",
      "\n",
      "ANA CAMILA YAÑEZ FUENTES (14:32)\n",
      "No, miss. Si surgen dudas mientras lo hacemos, le mandamos mensaje por Teams.\n",
      "\n",
      "FABIOLA ACOSTA LOPEZ (14:37)\n",
      "Bueno, sí, dime.\n",
      "\n",
      "JESSICA DANIELA SALDAÑA GARCIA (14:38)\n",
      "Maestra, perdón. ¿Va a hacer la rifa de los números para ver quién expone primero?\n",
      "\n",
      "FABIOLA ACOSTA LOPEZ (14:46)\n",
      "Sí, o si ustedes se quieren proponer, no tengo problema. Ok, muchachos, voy a pasar asistencia para que me vayan contestando, por favor. Listo, ahí va. ¿Ana Camila? Sí está. ¿Andrea Flores?\n",
      "\n",
      "ANDREA FLORES MELO (15:11)\n",
      "Presente.\n",
      "\n",
      "FABIOLA ACOSTA LOPEZ (15:14)\n",
      "¿Andrea Vianney? ¿Antonio Damián? ¿Ariel?\n",
      "\n",
      "EDUARDO ANTONIO RIOS CALLEJA (15:21)\n",
      "Aquí está Andrea con nosotras, presente, maestra.\n",
      "\n",
      "FABIOLA ACOSTA LOPEZ (15:25)\n",
      "Andrea Vianney.\n",
      "\n",
      "EDUARDO ANTONIO RIOS CALLEJA (15:26)\n",
      "Presente, miss.\n",
      "\n",
      "FABIOLA ACOSTA LOPEZ (15:28)\n",
      "Ah, ok. ¿Carolina? No la veo. Ok. ¿Eduardo?\n",
      "\n",
      "EDUARDO ANTONIO RIOS CALLEJA (15:42)\n",
      "Aquí estoy, miss.\n",
      "\n",
      "FABIOLA ACOSTA LOPEZ (15:43)\n",
      "Eduardo. ¿Hugo?\n",
      "\n",
      "EDUARDO ANTONIO RIOS CALLEJA (15:45)\n",
      "Presente.\n",
      "\n",
      "FABIOLA ACOSTA LOPEZ (15:47)\n",
      "Ahí estás con Eduardo. ¿Jessica?\n",
      "\n",
      "JESSICA DANIELA SALDAÑA GARCIA (15:52)\n",
      "Presente.\n",
      "\n",
      "FABIOLA ACOSTA LOPEZ (15:53)\n",
      "Y Jonathan, ahí estaba. ¿José Emiliano?\n",
      "\n",
      "JONATAN ALEJANDRO GONZÁLEZ CÁZARES (15:55)\n",
      "Presente, maestra.\n",
      "\n",
      "FABIOLA ACOSTA LOPEZ (16:01)\n",
      "José Emiliano, ¿no está? ¿Juan Diego? Tampoco lo veo.\n",
      "\n",
      "MARIANA DENISE BARRERAS GARCIA (16:08)\n",
      "Aquí estoy con Mariana.\n",
      "\n",
      "FABIOLA ACOSTA LOPEZ (16:09)\n",
      "Ah, ok. ¿Juan Pablo? Mariana sí está ahí. ¿Marta?\n",
      "\n",
      "MARIANA DENISE BARRERAS GARCIA (16:20)\n",
      "Aquí.\n",
      "\n",
      "JONATAN ALEJANDRO GONZÁLEZ CÁZARES (16:23)\n",
      "Presente, soy yo, maestra.\n",
      "\n",
      "FABIOLA ACOSTA LOPEZ (16:24)\n",
      "También ahí está. ¿Melissa? ¿Melissa Sofía?\n",
      "\n",
      "MELISSA SOFÍA VALDEZ BORBÓN (16:32)\n",
      "Presente, miss.\n",
      "\n",
      "FABIOLA ACOSTA LOPEZ (16:34)\n",
      "Muy bien, muchachos, entonces prácticamente era eso. Ahí lo tienen en su archivo. Con toda confianza, si quieren hacer una reunión por Teams o una llamada para que les quede más claro, lo hacemos. Hay una presentación que me hicieron en otro grupo; igual se las comparto como muestra. Fue de las más completas y súper explicadas. Se las voy a compartir para que se den una idea. De todos modos, cualquier duda me dicen y con gusto. Creo que les pedí el trabajo para el martes en la noche, no, es cierto, el miércoles como al mediodía, ¿verdad? Para tener los trabajos a la mano y leerlos. Muy bien, entonces por mi parte es todo. ¿Tienen alguna duda, propuesta o sugerencia?\n",
      "\n",
      "ANA CAMILA YAÑEZ FUENTES (17:32)\n",
      "No, miss.\n",
      "\n",
      "FABIOLA ACOSTA LOPEZ (17:33)\n",
      "No. Ok, Camila. Antonio Damián, te estoy viendo en tu foto y te ves bien diferente. Bueno, entonces nos vemos el miércoles, si otra cosa no sucede. ¿De acuerdo?\n",
      "\n",
      "JONATAN ALEJANDRO GONZÁLEZ CÁZARES (17:52)\n",
      "Sí, maestra, muchas gracias.\n",
      "\n",
      "FABIOLA ACOSTA LOPEZ (17:54)\n",
      "Ok, a ustedes. Bye.\n",
      "\n",
      "ANA CAMILA YAÑEZ FUENTES (17:54)\n",
      "Gracias.\n",
      "\n",
      "JESSICA DANIELA SALDAÑA GARCIA (17:57)\n",
      "Gracias, bye.\n",
      "\n",
      "ANDREA FLORES MELO (18:00)\n",
      "Adiós, miss. Gracias.\n"
     ]
    }
   ],
   "source": [
    "print(clean_transcript)"
   ]
  },
  {
   "cell_type": "markdown",
   "id": "c7d78ecf",
   "metadata": {},
   "source": [
    "# Guardar el resultado para el Analyzer"
   ]
  },
  {
   "cell_type": "code",
   "execution_count": 15,
   "id": "60826161",
   "metadata": {},
   "outputs": [],
   "source": [
    "to_save_path = main_dir.joinpath(\n",
    "    'core',\n",
    "    'data',\n",
    "    'clean',\n",
    "    'test',\n",
    "    f'{TRANSCRIPT_PATH.stem}__clean.txt'\n",
    ")\n",
    "\n",
    "with open(to_save_path, 'w', encoding='utf-8') as f:\n",
    "    f.write(clean_transcript)"
   ]
  }
 ],
 "metadata": {
  "kernelspec": {
   "display_name": "venv",
   "language": "python",
   "name": "python3"
  },
  "language_info": {
   "codemirror_mode": {
    "name": "ipython",
    "version": 3
   },
   "file_extension": ".py",
   "mimetype": "text/x-python",
   "name": "python",
   "nbconvert_exporter": "python",
   "pygments_lexer": "ipython3",
   "version": "3.10.6"
  }
 },
 "nbformat": 4,
 "nbformat_minor": 5
}
