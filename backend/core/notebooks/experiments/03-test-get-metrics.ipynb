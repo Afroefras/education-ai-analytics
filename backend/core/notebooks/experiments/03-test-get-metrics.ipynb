{
 "cells": [
  {
   "cell_type": "markdown",
   "id": "584bc58f",
   "metadata": {},
   "source": [
    "# Definir ruta principal"
   ]
  },
  {
   "cell_type": "code",
   "execution_count": 1,
   "id": "c5bf5d24",
   "metadata": {},
   "outputs": [
    {
     "data": {
      "text/plain": [
       "WindowsPath('c:/Users/efrai/CascadeProjects/education-ai-analytics/backend')"
      ]
     },
     "execution_count": 1,
     "metadata": {},
     "output_type": "execute_result"
    }
   ],
   "source": [
    "from pathlib import Path\n",
    "\n",
    "current_dir = Path().cwd()\n",
    "main_dir = current_dir.parent.parent.parent\n",
    "main_dir"
   ]
  },
  {
   "cell_type": "markdown",
   "id": "465d4f6c",
   "metadata": {},
   "source": [
    "# Agregar ruta principal como librería\n",
    "Para poder usar nuestro código como si fuera cualquier otra librería de Python"
   ]
  },
  {
   "cell_type": "code",
   "execution_count": 2,
   "id": "68d9928e",
   "metadata": {},
   "outputs": [],
   "source": [
    "import sys\n",
    "\n",
    "sys.path.append(str(main_dir))"
   ]
  },
  {
   "cell_type": "markdown",
   "id": "86ec558c",
   "metadata": {},
   "source": [
    "# Importar nuestro modelo de lenguaje `Analyzer`"
   ]
  },
  {
   "cell_type": "code",
   "execution_count": 3,
   "id": "5181a5c8",
   "metadata": {},
   "outputs": [
    {
     "name": "stdout",
     "output_type": "stream",
     "text": [
      "Large Language Model (LLM) to get metrics from a class transcript\n"
     ]
    }
   ],
   "source": [
    "from core.utils.llm_utils import Analyzer\n",
    "\n",
    "analyzer = Analyzer()\n",
    "print(analyzer)"
   ]
  },
  {
   "cell_type": "markdown",
   "id": "921dd198",
   "metadata": {},
   "source": [
    "# De dónde viene el prompt y el transcript?"
   ]
  },
  {
   "cell_type": "code",
   "execution_count": 4,
   "id": "05c940f5",
   "metadata": {},
   "outputs": [],
   "source": [
    "PROMPT_PATH = main_dir.joinpath('core', 'prompts', 'get_metrics.txt')\n",
    "TRANSCRIPT_PATH = main_dir.joinpath('core', 'data', 'test_clean', '20250728_ml_intro.txt')"
   ]
  },
  {
   "cell_type": "markdown",
   "id": "f34c12f8",
   "metadata": {},
   "source": [
    "# Qué modelo vamos a usar?"
   ]
  },
  {
   "cell_type": "code",
   "execution_count": 5,
   "id": "1a6d0dee",
   "metadata": {},
   "outputs": [],
   "source": [
    "MODEL = 'gemini-2.5-pro'"
   ]
  },
  {
   "cell_type": "markdown",
   "id": "66b8a388",
   "metadata": {},
   "source": [
    "# Vengan todas las métricas en JSON\n",
    "Cuidadito en correr esta celda, cuesta dineros"
   ]
  },
  {
   "cell_type": "code",
   "execution_count": 6,
   "id": "6e129154",
   "metadata": {},
   "outputs": [],
   "source": [
    "# metrics = analyzer.run(\n",
    "#     prompt_path=PROMPT_PATH,\n",
    "#     transcript_path=TRANSCRIPT_PATH,\n",
    "#     model_name=MODEL\n",
    "# )"
   ]
  },
  {
   "cell_type": "markdown",
   "id": "2620760c",
   "metadata": {},
   "source": [
    "Mejor tener un checkpoint para usar las métricas"
   ]
  },
  {
   "cell_type": "code",
   "execution_count": 7,
   "id": "adea3b5b",
   "metadata": {},
   "outputs": [],
   "source": [
    "CHECKPOINT_PATH = \"test_json_metrics.txt\"\n",
    "\n",
    "with open(CHECKPOINT_PATH, 'r', encoding='utf-8') as file:\n",
    "    metrics = file.read()\n",
    "    metrics = eval(metrics)"
   ]
  },
  {
   "cell_type": "code",
   "execution_count": 8,
   "id": "12addc54",
   "metadata": {},
   "outputs": [
    {
     "data": {
      "text/plain": [
       "{'0': {'concepts': ['Machine Learning',\n",
       "   'análisis de datos',\n",
       "   'inteligencia artificial',\n",
       "   'automatización',\n",
       "   'aprendizaje automático',\n",
       "   'algoritmos',\n",
       "   'patrones',\n",
       "   'modelo supervisado'],\n",
       "  'professor_questions_count': '1',\n",
       "  'professor_questions': [{'question': '¿Quién me dice qué entiende por aprendizaje automático?',\n",
       "    'answer': 'Es la capacidad de las máquinas para aprender de datos y algoritmos para mejorar en una tarea sin ser programadas explícitamente para cada decisión.'}],\n",
       "  'student_questions_count': '2',\n",
       "  'student_questions': [{'question': '¿Es como que las máquinas aprenden solas?',\n",
       "    'answer': 'No del todo solas. Se les proporcionan datos y algoritmos para que aprendan patrones.'},\n",
       "   {'question': '¿Eso es como lo de Netflix que me recomienda series?',\n",
       "    'answer': 'Exactamente, es un ejemplo de modelo supervisado que aprende de tu historial y el de usuarios similares.'}],\n",
       "  'examples_count': '1',\n",
       "  'examples': ['Sistema de recomendación de Netflix'],\n",
       "  'talk_time': {'professor': '00:50', 'students': '00:10'},\n",
       "  'teaching_style': {'questioning': 0.1,\n",
       "   'correcting': 0.1,\n",
       "   'explanation': 0.8,\n",
       "   'encouraging': 0.0}},\n",
       " '1': {'concepts': ['aprendizaje supervisado',\n",
       "   'aprendizaje no supervisado',\n",
       "   'aprendizaje por refuerzo',\n",
       "   'datos etiquetados',\n",
       "   'robots',\n",
       "   'autos autónomos',\n",
       "   'tipos de datos (numéricos, texto, imágenes)',\n",
       "   'requisitos matemáticos (probabilidad, álgebra, estadística)',\n",
       "   'fiabilidad de modelos',\n",
       "   'validación y ajuste'],\n",
       "  'professor_questions_count': '0',\n",
       "  'professor_questions': [],\n",
       "  'student_questions_count': '5',\n",
       "  'student_questions': [{'question': '¿Y hay varios tipos de aprendizaje?',\n",
       "    'answer': 'Sí, los tres principales son supervisado (con datos etiquetados), no supervisado (sin etiquetas) y por refuerzo (ensayo y error).'},\n",
       "   {'question': '¿El de refuerzo se usa en robots?',\n",
       "    'answer': 'Sí, y en sistemas como los autos autónomos, que aprenden con recompensas o penalizaciones.'},\n",
       "   {'question': '¿Y esos datos deben ser siempre numéricos?',\n",
       "    'answer': 'No, pueden ser textos, imágenes o sonidos, pero deben ser estructurados o transformables para el modelo.'},\n",
       "   {'question': '¿Y necesitamos saber matemáticas para esto?',\n",
       "    'answer': 'Sí, lo esencial de probabilidades, álgebra básica y estadística.'},\n",
       "   {'question': '¿Y esos modelos son confiables? ¿No se equivocan?',\n",
       "    'answer': 'Sí se equivocan. Su calidad depende de los datos. Siempre hay que validar, ajustar y evaluar.'}],\n",
       "  'examples_count': '1',\n",
       "  'examples': ['Autos autónomos usando aprendizaje por refuerzo'],\n",
       "  'talk_time': {'professor': '00:50', 'students': '00:10'},\n",
       "  'teaching_style': {'questioning': 0.0,\n",
       "   'correcting': 0.0,\n",
       "   'explanation': 0.9,\n",
       "   'encouraging': 0.1}},\n",
       " '2': {'concepts': ['sesgos en IA',\n",
       "   'discriminación algorítmica',\n",
       "   'IA ética',\n",
       "   'corrección de sesgos',\n",
       "   'futuro del trabajo',\n",
       "   'automatización de tareas repetitivas',\n",
       "   'nuevas oportunidades laborales'],\n",
       "  'professor_questions_count': '1',\n",
       "  'professor_questions': [{'question': 'A ver… ¿qué opinan? ¿[La IA] nos va a quitar el trabajo, sí o no?',\n",
       "    'answer': 'Los alumnos opinan que depende del trabajo; reemplazará tareas repetitivas pero no las creativas, y que ya está sucediendo con roles como recepcionistas.'}],\n",
       "  'student_questions_count': '4',\n",
       "  'student_questions': [{'question': '¿Y eso de que discriminan es cierto?',\n",
       "    'answer': 'Sí, si los datos de entrenamiento tienen sesgos (raciales, de género, etc.), el modelo los hereda y aplica.'},\n",
       "   {'question': '¿Entonces la IA puede ser injusta?',\n",
       "    'answer': 'Sí, por eso es importante el concepto de IA ética para diseñar modelos responsables.'},\n",
       "   {'question': '¿Y se puede corregir eso?',\n",
       "    'answer': 'Sí, con técnicas como filtros, reponderación de datos o auditorías algorítmicas, aplicadas desde el diseño.'},\n",
       "   {'question': '¿Y nos va a quitar el trabajo la IA?',\n",
       "    'answer': 'Es una pregunta compleja. Hay tareas que desaparecen, pero surgen otras nuevas, especialmente para quienes sepan trabajar con datos.'}],\n",
       "  'examples_count': '2',\n",
       "  'examples': ['Discriminación en procesos de selección, bancos y sistemas policiales',\n",
       "   'Bots reemplazando a recepcionistas'],\n",
       "  'talk_time': {'professor': '00:45', 'students': '00:15'},\n",
       "  'teaching_style': {'questioning': 0.1,\n",
       "   'correcting': 0.0,\n",
       "   'explanation': 0.8,\n",
       "   'encouraging': 0.1}},\n",
       " '3': {'concepts': ['pasos del modelo de ML',\n",
       "   'recolección de datos',\n",
       "   'limpieza de datos',\n",
       "   'selección de algoritmo',\n",
       "   'entrenamiento y evaluación',\n",
       "   'interpretación de resultados',\n",
       "   'programación en Python',\n",
       "   'librerías (scikit-learn, pandas)',\n",
       "   'regresión lineal'],\n",
       "  'professor_questions_count': '2',\n",
       "  'professor_questions': [{'question': '¿Cuáles son los pasos para crear un modelo de Machine Learning?',\n",
       "    'answer': 'Los pasos son: recolectar datos, limpiar los datos, elegir un algoritmo, y entrenar y evaluar el modelo.'},\n",
       "   {'question': '¿Alguien más con dudas?',\n",
       "    'answer': 'Un alumno preguntó si podía dejar una pregunta en Teams.'}],\n",
       "  'student_questions_count': '4',\n",
       "  'student_questions': [{'question': '¿Y hay que saber programar sí o sí?',\n",
       "    'answer': 'Sí, aunque al principio es suficiente con entender los pasos y practicar con notebooks de Python.'},\n",
       "   {'question': '¿Y vamos a usar librerías?',\n",
       "    'answer': 'Sí, como scikit-learn o pandas, después de entender los conceptos.'},\n",
       "   {'question': '¿Nos puede mandar un video complementario?',\n",
       "    'answer': 'Sí, será subido a Classroom junto con una lectura.'},\n",
       "   {'question': '¿Podemos escribir la pregunta en Teams?',\n",
       "    'answer': 'Sí, se puede dejar en Teams o traerla escrita a clase.'}],\n",
       "  'examples_count': '0',\n",
       "  'examples': [],\n",
       "  'talk_time': {'professor': '00:50', 'students': '00:10'},\n",
       "  'teaching_style': {'questioning': 0.1,\n",
       "   'correcting': 0.0,\n",
       "   'explanation': 0.8,\n",
       "   'encouraging': 0.1}},\n",
       " '4': {'concepts': [],\n",
       "  'professor_questions_count': '0',\n",
       "  'professor_questions': [],\n",
       "  'student_questions_count': '0',\n",
       "  'student_questions': [],\n",
       "  'examples_count': '0',\n",
       "  'examples': [],\n",
       "  'talk_time': {'professor': '00:08', 'students': '00:02'},\n",
       "  'teaching_style': {'questioning': 0.0,\n",
       "   'correcting': 0.0,\n",
       "   'explanation': 0.6,\n",
       "   'encouraging': 0.4}}}"
      ]
     },
     "execution_count": 8,
     "metadata": {},
     "output_type": "execute_result"
    }
   ],
   "source": [
    "metrics"
   ]
  },
  {
   "cell_type": "markdown",
   "id": "5e7376b2",
   "metadata": {},
   "source": [
    "# Métricas"
   ]
  },
  {
   "cell_type": "markdown",
   "id": "f4de76aa",
   "metadata": {},
   "source": [
    "## Los conceptos más abordados"
   ]
  },
  {
   "cell_type": "code",
   "execution_count": 9,
   "id": "4212e247",
   "metadata": {},
   "outputs": [
    {
     "data": {
      "text/plain": [
       "[{'concept': 'Machine Learning', 'frequency': 1},\n",
       " {'concept': 'análisis de datos', 'frequency': 1},\n",
       " {'concept': 'inteligencia artificial', 'frequency': 1},\n",
       " {'concept': 'automatización', 'frequency': 1},\n",
       " {'concept': 'aprendizaje automático', 'frequency': 1}]"
      ]
     },
     "execution_count": 9,
     "metadata": {},
     "output_type": "execute_result"
    }
   ],
   "source": [
    "top_5_concepts = analyzer.get_top_concepts(metrics, top_n=5)\n",
    "top_5_concepts"
   ]
  },
  {
   "cell_type": "markdown",
   "id": "d9a67ced",
   "metadata": {},
   "source": [
    "## Estilo de enseñanza"
   ]
  },
  {
   "cell_type": "code",
   "execution_count": 10,
   "id": "69901abc",
   "metadata": {},
   "outputs": [
    {
     "data": {
      "text/plain": [
       "{'questioning': 0.0714,\n",
       " 'correcting': 0.0246,\n",
       " 'explanation': 0.8167,\n",
       " 'encouraging': 0.0872}"
      ]
     },
     "execution_count": 10,
     "metadata": {},
     "output_type": "execute_result"
    }
   ],
   "source": [
    "teaching_style = analyzer.get_teaching_style(metrics)\n",
    "teaching_style"
   ]
  },
  {
   "cell_type": "markdown",
   "id": "4ce7b54c",
   "metadata": {},
   "source": [
    "## Ejemplos y preguntas"
   ]
  },
  {
   "cell_type": "code",
   "execution_count": 11,
   "id": "9a316b91",
   "metadata": {},
   "outputs": [
    {
     "data": {
      "text/plain": [
       "[{'minute': 0,\n",
       "  'professor_questions': 1,\n",
       "  'student_questions': 2,\n",
       "  'examples': 1},\n",
       " {'minute': 1,\n",
       "  'professor_questions': 0,\n",
       "  'student_questions': 5,\n",
       "  'examples': 1},\n",
       " {'minute': 2,\n",
       "  'professor_questions': 1,\n",
       "  'student_questions': 4,\n",
       "  'examples': 2},\n",
       " {'minute': 3,\n",
       "  'professor_questions': 2,\n",
       "  'student_questions': 4,\n",
       "  'examples': 0},\n",
       " {'minute': 4,\n",
       "  'professor_questions': 0,\n",
       "  'student_questions': 0,\n",
       "  'examples': 0}]"
      ]
     },
     "execution_count": 11,
     "metadata": {},
     "output_type": "execute_result"
    }
   ],
   "source": [
    "questions_examples = analyzer.get_questions_and_examples(metrics)\n",
    "questions_examples"
   ]
  },
  {
   "cell_type": "markdown",
   "id": "7ccd56db",
   "metadata": {},
   "source": [
    "# Distribución del tiempo hablando"
   ]
  },
  {
   "cell_type": "code",
   "execution_count": 12,
   "id": "ff0ddd37",
   "metadata": {},
   "outputs": [
    {
     "data": {
      "text/plain": [
       "[{'minute': 0, 'professor_percentage': 0.8333, 'student_percentage': 0.1667},\n",
       " {'minute': 1, 'professor_percentage': 0.8333, 'student_percentage': 0.1667},\n",
       " {'minute': 2, 'professor_percentage': 0.75, 'student_percentage': 0.25},\n",
       " {'minute': 3, 'professor_percentage': 0.8333, 'student_percentage': 0.1667},\n",
       " {'minute': 4, 'professor_percentage': 0.8, 'student_percentage': 0.2}]"
      ]
     },
     "execution_count": 12,
     "metadata": {},
     "output_type": "execute_result"
    }
   ],
   "source": [
    "talk_time = analyzer.get_talk_time(metrics)\n",
    "talk_time"
   ]
  }
 ],
 "metadata": {
  "kernelspec": {
   "display_name": "venv",
   "language": "python",
   "name": "python3"
  },
  "language_info": {
   "codemirror_mode": {
    "name": "ipython",
    "version": 3
   },
   "file_extension": ".py",
   "mimetype": "text/x-python",
   "name": "python",
   "nbconvert_exporter": "python",
   "pygments_lexer": "ipython3",
   "version": "3.10.6"
  }
 },
 "nbformat": 4,
 "nbformat_minor": 5
}
