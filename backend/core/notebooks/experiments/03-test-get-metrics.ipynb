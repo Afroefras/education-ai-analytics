{
 "cells": [
  {
   "cell_type": "markdown",
   "id": "584bc58f",
   "metadata": {},
   "source": [
    "# Definir ruta principal"
   ]
  },
  {
   "cell_type": "code",
   "execution_count": 1,
   "id": "c5bf5d24",
   "metadata": {},
   "outputs": [
    {
     "data": {
      "text/plain": [
       "WindowsPath('c:/Users/efrai/CascadeProjects/education-ai-analytics/backend')"
      ]
     },
     "execution_count": 1,
     "metadata": {},
     "output_type": "execute_result"
    }
   ],
   "source": [
    "from pathlib import Path\n",
    "\n",
    "current_dir = Path().cwd()\n",
    "main_dir = current_dir.parent.parent.parent\n",
    "main_dir"
   ]
  },
  {
   "cell_type": "markdown",
   "id": "465d4f6c",
   "metadata": {},
   "source": [
    "# Agregar ruta principal como librería\n",
    "Para poder usar nuestro código como si fuera cualquier otra librería de Python"
   ]
  },
  {
   "cell_type": "code",
   "execution_count": 2,
   "id": "68d9928e",
   "metadata": {},
   "outputs": [],
   "source": [
    "import sys\n",
    "\n",
    "sys.path.append(str(main_dir))"
   ]
  },
  {
   "cell_type": "markdown",
   "id": "86ec558c",
   "metadata": {},
   "source": [
    "# Importar nuestro modelo de lenguaje `Analyzer`"
   ]
  },
  {
   "cell_type": "code",
   "execution_count": 3,
   "id": "5181a5c8",
   "metadata": {},
   "outputs": [
    {
     "name": "stdout",
     "output_type": "stream",
     "text": [
      "Large Language Model (LLM) to get metrics from a class transcript\n"
     ]
    }
   ],
   "source": [
    "from core.utils.llm_utils import Analyzer\n",
    "\n",
    "analyzer = Analyzer()\n",
    "print(analyzer)"
   ]
  },
  {
   "cell_type": "markdown",
   "id": "921dd198",
   "metadata": {},
   "source": [
    "# De dónde viene el prompt y el transcript?"
   ]
  },
  {
   "cell_type": "code",
   "execution_count": 4,
   "id": "05c940f5",
   "metadata": {},
   "outputs": [],
   "source": [
    "PROMPT_PATH = main_dir.joinpath('core', 'prompts', 'get_metrics.txt')\n",
    "TRANSCRIPT_PATH = main_dir.joinpath('core', 'data', 'test_clean', '20250728_ml_intro.txt')"
   ]
  },
  {
   "cell_type": "markdown",
   "id": "f34c12f8",
   "metadata": {},
   "source": [
    "# Qué modelo vamos a usar?"
   ]
  },
  {
   "cell_type": "code",
   "execution_count": 5,
   "id": "1a6d0dee",
   "metadata": {},
   "outputs": [],
   "source": [
    "MODEL = 'gemini-2.5-pro'"
   ]
  },
  {
   "cell_type": "markdown",
   "id": "66b8a388",
   "metadata": {},
   "source": [
    "# Vengan todas las métricas en JSON\n",
    "Cuidadito en correr esta celda, cuesta dineros"
   ]
  },
  {
   "cell_type": "code",
   "execution_count": null,
   "id": "6e129154",
   "metadata": {},
   "outputs": [],
   "source": [
    "# metrics = analyzer.run(\n",
    "#     prompt_path=PROMPT_PATH,\n",
    "#     transcript_path=TRANSCRIPT_PATH,\n",
    "#     model_name=MODEL\n",
    "# )"
   ]
  },
  {
   "cell_type": "markdown",
   "id": "2620760c",
   "metadata": {},
   "source": [
    "Mejor tener un checkpoint para usar las métricas"
   ]
  },
  {
   "cell_type": "code",
   "execution_count": 25,
   "id": "adea3b5b",
   "metadata": {},
   "outputs": [],
   "source": [
    "CHECKPOINT_PATH = \"test_json_metrics.txt\"\n",
    "\n",
    "with open(CHECKPOINT_PATH, 'r', encoding='utf-8') as file:\n",
    "    metrics = file.read()\n",
    "    metrics = eval(metrics)"
   ]
  }
 ],
 "metadata": {
  "kernelspec": {
   "display_name": "venv",
   "language": "python",
   "name": "python3"
  },
  "language_info": {
   "codemirror_mode": {
    "name": "ipython",
    "version": 3
   },
   "file_extension": ".py",
   "mimetype": "text/x-python",
   "name": "python",
   "nbconvert_exporter": "python",
   "pygments_lexer": "ipython3",
   "version": "3.10.6"
  }
 },
 "nbformat": 4,
 "nbformat_minor": 5
}
