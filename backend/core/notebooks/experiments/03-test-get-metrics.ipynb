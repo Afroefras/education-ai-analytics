{
 "cells": [
  {
   "cell_type": "markdown",
   "id": "584bc58f",
   "metadata": {},
   "source": [
    "# Definir ruta principal"
   ]
  },
  {
   "cell_type": "code",
   "execution_count": 1,
   "id": "c5bf5d24",
   "metadata": {},
   "outputs": [
    {
     "data": {
      "text/plain": [
       "WindowsPath('c:/Users/efrai/CascadeProjects/education-ai-analytics/backend')"
      ]
     },
     "execution_count": 1,
     "metadata": {},
     "output_type": "execute_result"
    }
   ],
   "source": [
    "from pathlib import Path\n",
    "\n",
    "current_dir = Path().cwd()\n",
    "main_dir = current_dir.parent.parent.parent\n",
    "main_dir"
   ]
  },
  {
   "cell_type": "markdown",
   "id": "465d4f6c",
   "metadata": {},
   "source": [
    "# Agregar ruta principal como librería\n",
    "Para poder usar nuestro código como si fuera cualquier otra librería de Python"
   ]
  },
  {
   "cell_type": "code",
   "execution_count": 2,
   "id": "68d9928e",
   "metadata": {},
   "outputs": [],
   "source": [
    "import sys\n",
    "\n",
    "sys.path.append(str(main_dir))"
   ]
  },
  {
   "cell_type": "markdown",
   "id": "86ec558c",
   "metadata": {},
   "source": [
    "# Importar nuestro modelo de lenguaje `Analyzer`"
   ]
  },
  {
   "cell_type": "code",
   "execution_count": 3,
   "id": "5181a5c8",
   "metadata": {},
   "outputs": [
    {
     "name": "stdout",
     "output_type": "stream",
     "text": [
      "Large Language Model (LLM) to get metrics from a class transcript\n"
     ]
    }
   ],
   "source": [
    "from core.utils.llm_utils import Analyzer\n",
    "\n",
    "analyzer = Analyzer()\n",
    "print(analyzer)"
   ]
  },
  {
   "cell_type": "markdown",
   "id": "921dd198",
   "metadata": {},
   "source": [
    "# De dónde viene el prompt y el transcript?"
   ]
  },
  {
   "cell_type": "code",
   "execution_count": 4,
   "id": "05c940f5",
   "metadata": {},
   "outputs": [],
   "source": [
    "PROMPT_PATH = main_dir.joinpath('core', 'prompts', 'get_metrics.txt')\n",
    "TRANSCRIPT_PATH = main_dir.joinpath('core', 'data', 'test_clean', '20250728_ml_intro.txt')"
   ]
  },
  {
   "cell_type": "markdown",
   "id": "f34c12f8",
   "metadata": {},
   "source": [
    "# Qué modelo vamos a usar?"
   ]
  },
  {
   "cell_type": "code",
   "execution_count": 5,
   "id": "1a6d0dee",
   "metadata": {},
   "outputs": [],
   "source": [
    "MODEL = 'gemini-2.5-pro'"
   ]
  },
  {
   "cell_type": "markdown",
   "id": "66b8a388",
   "metadata": {},
   "source": [
    "# Vengan todas las métricas en JSON\n",
    "Cuidadito en correr esta celda, cuesta dineros"
   ]
  },
  {
   "cell_type": "code",
   "execution_count": 6,
   "id": "6e129154",
   "metadata": {},
   "outputs": [],
   "source": [
    "# metrics = analyzer.run(\n",
    "#     prompt_path=PROMPT_PATH,\n",
    "#     transcript_path=TRANSCRIPT_PATH,\n",
    "#     model_name=MODEL\n",
    "# )"
   ]
  },
  {
   "cell_type": "markdown",
   "id": "2620760c",
   "metadata": {},
   "source": [
    "Mejor tener un checkpoint para usar las métricas"
   ]
  },
  {
   "cell_type": "code",
   "execution_count": 7,
   "id": "adea3b5b",
   "metadata": {},
   "outputs": [],
   "source": [
    "CHECKPOINT_PATH = \"test_json_metrics.txt\"\n",
    "\n",
    "with open(CHECKPOINT_PATH, 'r', encoding='utf-8') as file:\n",
    "    metrics = file.read()\n",
    "    metrics = eval(metrics)"
   ]
  },
  {
   "cell_type": "markdown",
   "id": "5e7376b2",
   "metadata": {},
   "source": [
    "# Métricas"
   ]
  },
  {
   "cell_type": "markdown",
   "id": "f4de76aa",
   "metadata": {},
   "source": [
    "## Los conceptos más abordados"
   ]
  },
  {
   "cell_type": "code",
   "execution_count": 9,
   "id": "4212e247",
   "metadata": {},
   "outputs": [
    {
     "data": {
      "text/plain": [
       "[{'concept': 'Machine Learning', 'frequency': 1},\n",
       " {'concept': 'análisis de datos', 'frequency': 1},\n",
       " {'concept': 'inteligencia artificial', 'frequency': 1},\n",
       " {'concept': 'automatización', 'frequency': 1},\n",
       " {'concept': 'aprendizaje automático', 'frequency': 1}]"
      ]
     },
     "execution_count": 9,
     "metadata": {},
     "output_type": "execute_result"
    }
   ],
   "source": [
    "top_5_concepts = analyzer.get_top_concepts(metrics, top_n=5)\n",
    "top_5_concepts"
   ]
  },
  {
   "cell_type": "markdown",
   "id": "d9a67ced",
   "metadata": {},
   "source": [
    "## Estilo de enseñanza"
   ]
  },
  {
   "cell_type": "code",
   "execution_count": 10,
   "id": "69901abc",
   "metadata": {},
   "outputs": [
    {
     "data": {
      "text/plain": [
       "{'questioning': 0.0714,\n",
       " 'correcting': 0.0246,\n",
       " 'explanation': 0.8167,\n",
       " 'encouraging': 0.0872}"
      ]
     },
     "execution_count": 10,
     "metadata": {},
     "output_type": "execute_result"
    }
   ],
   "source": [
    "teaching_style = analyzer.get_teaching_style(metrics)\n",
    "teaching_style"
   ]
  },
  {
   "cell_type": "markdown",
   "id": "4ce7b54c",
   "metadata": {},
   "source": [
    "## Ejemplos y preguntas"
   ]
  },
  {
   "cell_type": "code",
   "execution_count": 11,
   "id": "9a316b91",
   "metadata": {},
   "outputs": [
    {
     "data": {
      "text/plain": [
       "[{'minute': 0,\n",
       "  'professor_questions': 1,\n",
       "  'student_questions': 2,\n",
       "  'examples': 1},\n",
       " {'minute': 1,\n",
       "  'professor_questions': 0,\n",
       "  'student_questions': 5,\n",
       "  'examples': 1},\n",
       " {'minute': 2,\n",
       "  'professor_questions': 1,\n",
       "  'student_questions': 4,\n",
       "  'examples': 2},\n",
       " {'minute': 3,\n",
       "  'professor_questions': 2,\n",
       "  'student_questions': 4,\n",
       "  'examples': 0},\n",
       " {'minute': 4,\n",
       "  'professor_questions': 0,\n",
       "  'student_questions': 0,\n",
       "  'examples': 0}]"
      ]
     },
     "execution_count": 11,
     "metadata": {},
     "output_type": "execute_result"
    }
   ],
   "source": [
    "questions_examples = analyzer.get_questions_and_examples(metrics)\n",
    "questions_examples"
   ]
  },
  {
   "cell_type": "markdown",
   "id": "7ccd56db",
   "metadata": {},
   "source": [
    "## Distribución del tiempo hablando"
   ]
  },
  {
   "cell_type": "code",
   "execution_count": 12,
   "id": "ff0ddd37",
   "metadata": {},
   "outputs": [
    {
     "data": {
      "text/plain": [
       "[{'minute': 0, 'professor_percentage': 0.8333, 'student_percentage': 0.1667},\n",
       " {'minute': 1, 'professor_percentage': 0.8333, 'student_percentage': 0.1667},\n",
       " {'minute': 2, 'professor_percentage': 0.75, 'student_percentage': 0.25},\n",
       " {'minute': 3, 'professor_percentage': 0.8333, 'student_percentage': 0.1667},\n",
       " {'minute': 4, 'professor_percentage': 0.8, 'student_percentage': 0.2}]"
      ]
     },
     "execution_count": 12,
     "metadata": {},
     "output_type": "execute_result"
    }
   ],
   "source": [
    "talk_time = analyzer.get_talk_time(metrics)\n",
    "talk_time"
   ]
  }
 ],
 "metadata": {
  "kernelspec": {
   "display_name": "venv",
   "language": "python",
   "name": "python3"
  },
  "language_info": {
   "codemirror_mode": {
    "name": "ipython",
    "version": 3
   },
   "file_extension": ".py",
   "mimetype": "text/x-python",
   "name": "python",
   "nbconvert_exporter": "python",
   "pygments_lexer": "ipython3",
   "version": "3.10.6"
  }
 },
 "nbformat": 4,
 "nbformat_minor": 5
}
