{
 "cells": [
  {
   "cell_type": "markdown",
   "id": "718d8978",
   "metadata": {},
   "source": [
    "# Parámetros"
   ]
  },
  {
   "cell_type": "markdown",
   "id": "1fef08b9",
   "metadata": {},
   "source": [
    "## Definir ruta principal\n"
   ]
  },
  {
   "cell_type": "code",
   "execution_count": 1,
   "id": "b6fa7825",
   "metadata": {},
   "outputs": [
    {
     "data": {
      "text/plain": [
       "WindowsPath('c:/Users/efrai/CascadeProjects/education-ai-analytics/backend')"
      ]
     },
     "execution_count": 1,
     "metadata": {},
     "output_type": "execute_result"
    }
   ],
   "source": [
    "from pathlib import Path\n",
    "\n",
    "current_dir = Path().cwd()\n",
    "main_dir = current_dir.parent.parent\n",
    "main_dir"
   ]
  },
  {
   "cell_type": "markdown",
   "id": "2ba72b11",
   "metadata": {},
   "source": [
    "## De dónde viene el transcript en crudo?"
   ]
  },
  {
   "cell_type": "code",
   "execution_count": 2,
   "id": "e52a8c4d",
   "metadata": {},
   "outputs": [
    {
     "data": {
      "text/plain": [
       "True"
      ]
     },
     "execution_count": 2,
     "metadata": {},
     "output_type": "execute_result"
    }
   ],
   "source": [
    "TRANSCRIPT = main_dir.joinpath('core', 'data', 'raw', 'portfolio_real_class.docx')\n",
    "\n",
    "TRANSCRIPT.is_file()"
   ]
  },
  {
   "cell_type": "markdown",
   "id": "7f9e22df",
   "metadata": {},
   "source": [
    "Guardar el nombre del archivo sin extensión para usar después"
   ]
  },
  {
   "cell_type": "code",
   "execution_count": 3,
   "id": "89b02105",
   "metadata": {},
   "outputs": [
    {
     "data": {
      "text/plain": [
       "'portfolio_real_class'"
      ]
     },
     "execution_count": 3,
     "metadata": {},
     "output_type": "execute_result"
    }
   ],
   "source": [
    "transcript_name = TRANSCRIPT.stem\n",
    "transcript_name"
   ]
  },
  {
   "cell_type": "markdown",
   "id": "bdc663a1",
   "metadata": {},
   "source": [
    "## Y los prompts?"
   ]
  },
  {
   "cell_type": "code",
   "execution_count": 4,
   "id": "c44637d6",
   "metadata": {},
   "outputs": [
    {
     "data": {
      "text/plain": [
       "(True, True)"
      ]
     },
     "execution_count": 4,
     "metadata": {},
     "output_type": "execute_result"
    }
   ],
   "source": [
    "CLEANER_PROMPT = main_dir.joinpath('core', 'prompts', 'clean_transcript.txt')\n",
    "ANALYZER_PROMPT = main_dir.joinpath('core', 'prompts', 'get_metrics.txt')\n",
    "\n",
    "CLEANER_PROMPT.is_file(), ANALYZER_PROMPT.is_file()"
   ]
  },
  {
   "cell_type": "markdown",
   "id": "d8f1336a",
   "metadata": {},
   "source": [
    "## Qué modelo vamos a usar?"
   ]
  },
  {
   "cell_type": "code",
   "execution_count": 5,
   "id": "bccac8c9",
   "metadata": {},
   "outputs": [],
   "source": [
    "MODEL = 'gemini-2.5-pro'"
   ]
  },
  {
   "cell_type": "markdown",
   "id": "c6fa5be9",
   "metadata": {},
   "source": [
    "# Pipeline!"
   ]
  },
  {
   "cell_type": "markdown",
   "id": "829552d9",
   "metadata": {},
   "source": [
    "## Agregar ruta principal como librería\n",
    "Para poder usar nuestro código como si fuera cualquier otra librería de Python"
   ]
  },
  {
   "cell_type": "code",
   "execution_count": 6,
   "id": "15f29e24",
   "metadata": {},
   "outputs": [],
   "source": [
    "import sys\n",
    "\n",
    "sys.path.append(str(main_dir))"
   ]
  },
  {
   "cell_type": "markdown",
   "id": "45e42778",
   "metadata": {},
   "source": [
    "## Cleaner"
   ]
  },
  {
   "cell_type": "code",
   "execution_count": 7,
   "id": "a9b89668",
   "metadata": {},
   "outputs": [
    {
     "name": "stdout",
     "output_type": "stream",
     "text": [
      "Large Language Model (LLM) class:\n",
      "Cleaner ready!\n"
     ]
    }
   ],
   "source": [
    "from core.utils.llm_cleaner import Cleaner\n",
    "\n",
    "cleaner = Cleaner()\n",
    "\n",
    "print(cleaner)"
   ]
  },
  {
   "cell_type": "markdown",
   "id": "053e4fb2",
   "metadata": {},
   "source": [
    "Definir dónde se va a guardar el resultado"
   ]
  },
  {
   "cell_type": "code",
   "execution_count": 9,
   "id": "8bf9217a",
   "metadata": {},
   "outputs": [
    {
     "data": {
      "text/plain": [
       "True"
      ]
     },
     "execution_count": 9,
     "metadata": {},
     "output_type": "execute_result"
    }
   ],
   "source": [
    "CLEAN_TRANSCRIPT_DIR = TRANSCRIPT.parent.parent.joinpath('clean')\n",
    "CLEAN_TRANSCRIPT_DIR.is_dir()"
   ]
  },
  {
   "cell_type": "markdown",
   "id": "97fa2288",
   "metadata": {},
   "source": [
    "LIMPIAR"
   ]
  },
  {
   "cell_type": "code",
   "execution_count": 9,
   "id": "0d5385d6",
   "metadata": {},
   "outputs": [],
   "source": [
    "clean_transcript = cleaner.run(\n",
    "    prompt_path=CLEANER_PROMPT,\n",
    "    transcript_path=TRANSCRIPT,\n",
    "    model_name=MODEL,\n",
    "    save_path=CLEAN_TRANSCRIPT_DIR,\n",
    "    filename_to_save=transcript_name\n",
    ")"
   ]
  },
  {
   "cell_type": "markdown",
   "id": "57c4490f",
   "metadata": {},
   "source": [
    "Cómo se ven los primeros y últimos 50 caracteres?"
   ]
  },
  {
   "cell_type": "code",
   "execution_count": 10,
   "id": "1188734c",
   "metadata": {},
   "outputs": [
    {
     "data": {
      "text/plain": [
       "('**Transcripción de clase: Planificación de Proyect',\n",
       " '\\n\\nANDREA FLORES MELO (18:00)\\nAdiós, miss, gracias.')"
      ]
     },
     "execution_count": 10,
     "metadata": {},
     "output_type": "execute_result"
    }
   ],
   "source": [
    "clean_transcript[:50], clean_transcript[-50:]"
   ]
  },
  {
   "cell_type": "markdown",
   "id": "6d3e8ac6",
   "metadata": {},
   "source": [
    "## Analyzer"
   ]
  },
  {
   "cell_type": "code",
   "execution_count": 7,
   "id": "67a816b6",
   "metadata": {},
   "outputs": [
    {
     "name": "stdout",
     "output_type": "stream",
     "text": [
      "Large Language Model (LLM) class:\n",
      "Analyzer ready!\n"
     ]
    }
   ],
   "source": [
    "from core.utils.llm_analyzer import Analyzer\n",
    "\n",
    "analyzer = Analyzer()\n",
    "print(analyzer)"
   ]
  },
  {
   "cell_type": "markdown",
   "id": "3755db5d",
   "metadata": {},
   "source": [
    "Definir qué transcript limpio se va a leer"
   ]
  },
  {
   "cell_type": "code",
   "execution_count": 10,
   "id": "d839dc2c",
   "metadata": {},
   "outputs": [
    {
     "data": {
      "text/plain": [
       "True"
      ]
     },
     "execution_count": 10,
     "metadata": {},
     "output_type": "execute_result"
    }
   ],
   "source": [
    "clean_transcript_path = CLEAN_TRANSCRIPT_DIR.joinpath(f\"{transcript_name}__clean.txt\")\n",
    "\n",
    "clean_transcript_path.is_file()"
   ]
  },
  {
   "cell_type": "markdown",
   "id": "ec16d935",
   "metadata": {},
   "source": [
    "Definir dónde se va a guardar el resultado"
   ]
  },
  {
   "cell_type": "code",
   "execution_count": 11,
   "id": "57993b59",
   "metadata": {},
   "outputs": [
    {
     "data": {
      "text/plain": [
       "True"
      ]
     },
     "execution_count": 11,
     "metadata": {},
     "output_type": "execute_result"
    }
   ],
   "source": [
    "METRICS_PATH = main_dir.joinpath('api')\n",
    "\n",
    "METRICS_PATH.is_dir()"
   ]
  },
  {
   "cell_type": "markdown",
   "id": "f177624d",
   "metadata": {},
   "source": [
    "OBTENER MÉTRICAS"
   ]
  },
  {
   "cell_type": "code",
   "execution_count": 12,
   "id": "eaee7901",
   "metadata": {},
   "outputs": [],
   "source": [
    "metrics = analyzer.run(\n",
    "    prompt_path=ANALYZER_PROMPT,\n",
    "    transcript_path=clean_transcript_path,\n",
    "    model_name=MODEL,\n",
    "    top_n_concepts=10,\n",
    "    save_path=METRICS_PATH,\n",
    "    filename_to_save=transcript_name,\n",
    ")"
   ]
  },
  {
   "cell_type": "markdown",
   "id": "a5b28f4f",
   "metadata": {},
   "source": [
    "Cuáles son las métricas que se obtuvieron?"
   ]
  },
  {
   "cell_type": "code",
   "execution_count": 13,
   "id": "9258887c",
   "metadata": {},
   "outputs": [
    {
     "data": {
      "text/plain": [
       "dict_keys(['top_concepts', 'teaching_style', 'questions_examples', 'talk_time'])"
      ]
     },
     "execution_count": 13,
     "metadata": {},
     "output_type": "execute_result"
    }
   ],
   "source": [
    "metrics.keys()"
   ]
  }
 ],
 "metadata": {
  "kernelspec": {
   "display_name": "venv",
   "language": "python",
   "name": "python3"
  },
  "language_info": {
   "codemirror_mode": {
    "name": "ipython",
    "version": 3
   },
   "file_extension": ".py",
   "mimetype": "text/x-python",
   "name": "python",
   "nbconvert_exporter": "python",
   "pygments_lexer": "ipython3",
   "version": "3.10.6"
  }
 },
 "nbformat": 4,
 "nbformat_minor": 5
}
